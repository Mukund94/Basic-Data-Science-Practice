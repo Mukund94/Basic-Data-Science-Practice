{
 "cells": [
  {
   "cell_type": "markdown",
   "id": "680587af",
   "metadata": {},
   "source": [
    "#                          DataFrame"
   ]
  },
  {
   "cell_type": "code",
   "execution_count": 130,
   "id": "63c2279e",
   "metadata": {},
   "outputs": [],
   "source": [
    "import pandas as pd\n",
    "import numpy as np"
   ]
  },
  {
   "cell_type": "code",
   "execution_count": 131,
   "id": "da981c2b",
   "metadata": {},
   "outputs": [],
   "source": [
    "DataF={\"Types\":[\"Care\",\"Bike\",\"Bus\",\"Truck\"],\n",
    "       \"Cost\":[100,150,300,600]}"
   ]
  },
  {
   "cell_type": "code",
   "execution_count": 132,
   "id": "413e43f7",
   "metadata": {},
   "outputs": [
    {
     "data": {
      "text/plain": [
       "{'Types': ['Care', 'Bike', 'Bus', 'Truck'], 'Cost': [100, 150, 300, 600]}"
      ]
     },
     "execution_count": 132,
     "metadata": {},
     "output_type": "execute_result"
    }
   ],
   "source": [
    "DataF"
   ]
  },
  {
   "cell_type": "code",
   "execution_count": 133,
   "id": "ad3e27a4",
   "metadata": {},
   "outputs": [
    {
     "data": {
      "text/plain": [
       "dict"
      ]
     },
     "execution_count": 133,
     "metadata": {},
     "output_type": "execute_result"
    }
   ],
   "source": [
    "type(DataF)"
   ]
  },
  {
   "cell_type": "code",
   "execution_count": 134,
   "id": "ad38a9ee",
   "metadata": {},
   "outputs": [],
   "source": [
    "dp=pd.DataFrame(DataF)"
   ]
  },
  {
   "cell_type": "code",
   "execution_count": 135,
   "id": "28b639d4",
   "metadata": {},
   "outputs": [
    {
     "data": {
      "text/html": [
       "<div>\n",
       "<style scoped>\n",
       "    .dataframe tbody tr th:only-of-type {\n",
       "        vertical-align: middle;\n",
       "    }\n",
       "\n",
       "    .dataframe tbody tr th {\n",
       "        vertical-align: top;\n",
       "    }\n",
       "\n",
       "    .dataframe thead th {\n",
       "        text-align: right;\n",
       "    }\n",
       "</style>\n",
       "<table border=\"1\" class=\"dataframe\">\n",
       "  <thead>\n",
       "    <tr style=\"text-align: right;\">\n",
       "      <th></th>\n",
       "      <th>Types</th>\n",
       "      <th>Cost</th>\n",
       "    </tr>\n",
       "  </thead>\n",
       "  <tbody>\n",
       "    <tr>\n",
       "      <th>0</th>\n",
       "      <td>Care</td>\n",
       "      <td>100</td>\n",
       "    </tr>\n",
       "    <tr>\n",
       "      <th>1</th>\n",
       "      <td>Bike</td>\n",
       "      <td>150</td>\n",
       "    </tr>\n",
       "    <tr>\n",
       "      <th>2</th>\n",
       "      <td>Bus</td>\n",
       "      <td>300</td>\n",
       "    </tr>\n",
       "    <tr>\n",
       "      <th>3</th>\n",
       "      <td>Truck</td>\n",
       "      <td>600</td>\n",
       "    </tr>\n",
       "  </tbody>\n",
       "</table>\n",
       "</div>"
      ],
      "text/plain": [
       "   Types  Cost\n",
       "0   Care   100\n",
       "1   Bike   150\n",
       "2    Bus   300\n",
       "3  Truck   600"
      ]
     },
     "execution_count": 135,
     "metadata": {},
     "output_type": "execute_result"
    }
   ],
   "source": [
    "dp"
   ]
  },
  {
   "cell_type": "code",
   "execution_count": 136,
   "id": "91f8b319",
   "metadata": {},
   "outputs": [],
   "source": [
    "dp_Flip=dp.T"
   ]
  },
  {
   "cell_type": "code",
   "execution_count": 137,
   "id": "902f466a",
   "metadata": {},
   "outputs": [
    {
     "data": {
      "text/html": [
       "<div>\n",
       "<style scoped>\n",
       "    .dataframe tbody tr th:only-of-type {\n",
       "        vertical-align: middle;\n",
       "    }\n",
       "\n",
       "    .dataframe tbody tr th {\n",
       "        vertical-align: top;\n",
       "    }\n",
       "\n",
       "    .dataframe thead th {\n",
       "        text-align: right;\n",
       "    }\n",
       "</style>\n",
       "<table border=\"1\" class=\"dataframe\">\n",
       "  <thead>\n",
       "    <tr style=\"text-align: right;\">\n",
       "      <th></th>\n",
       "      <th>0</th>\n",
       "      <th>1</th>\n",
       "      <th>2</th>\n",
       "      <th>3</th>\n",
       "    </tr>\n",
       "  </thead>\n",
       "  <tbody>\n",
       "    <tr>\n",
       "      <th>Types</th>\n",
       "      <td>Care</td>\n",
       "      <td>Bike</td>\n",
       "      <td>Bus</td>\n",
       "      <td>Truck</td>\n",
       "    </tr>\n",
       "    <tr>\n",
       "      <th>Cost</th>\n",
       "      <td>100</td>\n",
       "      <td>150</td>\n",
       "      <td>300</td>\n",
       "      <td>600</td>\n",
       "    </tr>\n",
       "  </tbody>\n",
       "</table>\n",
       "</div>"
      ],
      "text/plain": [
       "          0     1    2      3\n",
       "Types  Care  Bike  Bus  Truck\n",
       "Cost    100   150  300    600"
      ]
     },
     "execution_count": 137,
     "metadata": {},
     "output_type": "execute_result"
    }
   ],
   "source": [
    "dp_Flip"
   ]
  },
  {
   "cell_type": "code",
   "execution_count": 138,
   "id": "633a0112",
   "metadata": {},
   "outputs": [
    {
     "ename": "TypeError",
     "evalue": "unhashable type: 'Series'",
     "output_type": "error",
     "traceback": [
      "\u001b[1;31m---------------------------------------------------------------------------\u001b[0m",
      "\u001b[1;31mTypeError\u001b[0m                                 Traceback (most recent call last)",
      "Input \u001b[1;32mIn [138]\u001b[0m, in \u001b[0;36m<cell line: 1>\u001b[1;34m()\u001b[0m\n\u001b[1;32m----> 1\u001b[0m dp_Flip\u001b[38;5;241m=\u001b[39mdp_Flip\u001b[38;5;241m.\u001b[39mrename(columns \u001b[38;5;241m=\u001b[39m{ dp_Flip[\u001b[38;5;241m0\u001b[39m]:\u001b[38;5;124m\"\u001b[39m\u001b[38;5;124mOption 1\u001b[39m\u001b[38;5;124m\"\u001b[39m})\n",
      "\u001b[1;31mTypeError\u001b[0m: unhashable type: 'Series'"
     ]
    }
   ],
   "source": [
    "dp_Flip=dp_Flip.rename(columns ={ dp_Flip[0]:\"Option 1\"})"
   ]
  },
  {
   "cell_type": "code",
   "execution_count": null,
   "id": "fb38d966",
   "metadata": {},
   "outputs": [],
   "source": [
    "print(\"Name Is :\" + \"Mukund\")"
   ]
  },
  {
   "cell_type": "markdown",
   "id": "0fcf3c8f",
   "metadata": {},
   "source": [
    "# The Python Operators\n",
    "# 1. Arithmetic\n",
    "# 2. Relational \n",
    "# 3. Logical\n",
    "# 4. Membership\n",
    "# 5. Bitwsie\n",
    "# 6. Assigment"
   ]
  },
  {
   "cell_type": "markdown",
   "id": "afbc36ae",
   "metadata": {},
   "source": [
    "# ********************************"
   ]
  },
  {
   "cell_type": "markdown",
   "id": "72a07f3a",
   "metadata": {},
   "source": [
    "# 1. Arithmetic Operators"
   ]
  },
  {
   "cell_type": "markdown",
   "id": "43663e07",
   "metadata": {},
   "source": [
    "\n",
    "# g. Exponentiation"
   ]
  },
  {
   "cell_type": "markdown",
   "id": "6a693b92",
   "metadata": {},
   "source": [
    "# a. Addition"
   ]
  },
  {
   "cell_type": "code",
   "execution_count": null,
   "id": "e9a3421d",
   "metadata": {},
   "outputs": [],
   "source": [
    "x=10\n",
    "y=2\n",
    "z=x+y\n",
    "print(z)\n",
    "type(z)"
   ]
  },
  {
   "cell_type": "markdown",
   "id": "70a19b8a",
   "metadata": {},
   "source": [
    "# b. Subtraction"
   ]
  },
  {
   "cell_type": "code",
   "execution_count": null,
   "id": "d2e161aa",
   "metadata": {},
   "outputs": [],
   "source": [
    "x=10\n",
    "y=2\n",
    "z=x-y\n",
    "print(z)\n",
    "type(z)"
   ]
  },
  {
   "cell_type": "markdown",
   "id": "3f1506f6",
   "metadata": {},
   "source": [
    "# c. Multiplication"
   ]
  },
  {
   "cell_type": "code",
   "execution_count": null,
   "id": "2e8d20aa",
   "metadata": {},
   "outputs": [],
   "source": [
    "x=10\n",
    "y=2\n",
    "z=x*y\n",
    "print(z)\n",
    "type(z)"
   ]
  },
  {
   "cell_type": "markdown",
   "id": "a7a02c19",
   "metadata": {},
   "source": [
    "# d. Division"
   ]
  },
  {
   "cell_type": "code",
   "execution_count": null,
   "id": "ee9f706d",
   "metadata": {},
   "outputs": [],
   "source": [
    "x=10\n",
    "y=2\n",
    "z=x/y\n",
    "print(z)\n",
    "type(z)"
   ]
  },
  {
   "cell_type": "markdown",
   "id": "4b7c4161",
   "metadata": {},
   "source": [
    "# e. Modulus"
   ]
  },
  {
   "cell_type": "code",
   "execution_count": null,
   "id": "1e29fcff",
   "metadata": {},
   "outputs": [],
   "source": [
    "x=28\n",
    "y=4\n",
    "z=x%y\n",
    "print(z)\n",
    "type(z)"
   ]
  },
  {
   "cell_type": "code",
   "execution_count": null,
   "id": "247a8ef0",
   "metadata": {},
   "outputs": [],
   "source": [
    "x=5\n",
    "y=428\n",
    "z=x%y\n",
    "print(z)\n",
    "type(z)"
   ]
  },
  {
   "cell_type": "markdown",
   "id": "9a8b6786",
   "metadata": {},
   "source": [
    "#### Modulus ->Numerator ->Denominator it returns remainder else it returns x"
   ]
  },
  {
   "cell_type": "markdown",
   "id": "2b1b1ee6",
   "metadata": {},
   "source": [
    "# f. Floor Division"
   ]
  },
  {
   "cell_type": "code",
   "execution_count": null,
   "id": "6cef301f",
   "metadata": {},
   "outputs": [],
   "source": [
    "x=27\n",
    "y=4\n",
    "z=x//y\n",
    "print(z)\n",
    "type(z)"
   ]
  },
  {
   "cell_type": "markdown",
   "id": "704d436f",
   "metadata": {},
   "source": [
    "#### FLoor Division ->Numerator ->Denominator it returns Quotient else it return 0"
   ]
  },
  {
   "cell_type": "code",
   "execution_count": null,
   "id": "f8bb34a0",
   "metadata": {},
   "outputs": [],
   "source": [
    "x=3\n",
    "y=2\n",
    "z=x**y\n",
    "print(z)\n",
    "type(z)"
   ]
  },
  {
   "cell_type": "code",
   "execution_count": null,
   "id": "e392128f",
   "metadata": {},
   "outputs": [],
   "source": [
    "Name=\"Mukund\"\n",
    "Age=\" 27\"\n",
    "NameAge=Name+Age"
   ]
  },
  {
   "cell_type": "code",
   "execution_count": null,
   "id": "c6d83d27",
   "metadata": {},
   "outputs": [],
   "source": [
    "NameAge"
   ]
  },
  {
   "cell_type": "code",
   "execution_count": null,
   "id": "0e1112bb",
   "metadata": {},
   "outputs": [],
   "source": [
    "Name=\"Mukund\"\n",
    "Age=\" 27\"\n",
    "NameAge=Name-Age\n",
    "NameAge\n"
   ]
  },
  {
   "cell_type": "code",
   "execution_count": null,
   "id": "6c2cd739",
   "metadata": {},
   "outputs": [],
   "source": [
    "Name=\"Mukund \"\n",
    "Age=2\n",
    "NameAge=Name*Age\n",
    "NameAge\n"
   ]
  },
  {
   "cell_type": "code",
   "execution_count": null,
   "id": "d17451c6",
   "metadata": {},
   "outputs": [],
   "source": [
    "Name=\"Mukund \"\n",
    "Age=\"27\"\n",
    "NameAge=Name/Age\n",
    "NameAge\n"
   ]
  },
  {
   "cell_type": "markdown",
   "id": "565a22af",
   "metadata": {},
   "source": [
    "## Relational Operatos"
   ]
  },
  {
   "cell_type": "code",
   "execution_count": null,
   "id": "69d72f3e",
   "metadata": {},
   "outputs": [],
   "source": [
    "x=1\n",
    "y=8\n",
    "x>y"
   ]
  },
  {
   "cell_type": "code",
   "execution_count": null,
   "id": "9a8735e2",
   "metadata": {},
   "outputs": [],
   "source": [
    "x=1\n",
    "y=8\n",
    "x==y"
   ]
  },
  {
   "cell_type": "code",
   "execution_count": null,
   "id": "d934a719",
   "metadata": {},
   "outputs": [],
   "source": [
    "x=1\n",
    "y=8\n",
    "x!=y"
   ]
  },
  {
   "cell_type": "code",
   "execution_count": null,
   "id": "2339517c",
   "metadata": {},
   "outputs": [],
   "source": [
    "x=1\n",
    "y=8\n",
    "x<=y"
   ]
  },
  {
   "cell_type": "code",
   "execution_count": null,
   "id": "5da2a348",
   "metadata": {},
   "outputs": [],
   "source": [
    "x=1\n",
    "y=8\n",
    "x>=y"
   ]
  },
  {
   "cell_type": "code",
   "execution_count": null,
   "id": "867fb950",
   "metadata": {},
   "outputs": [],
   "source": [
    "x=1\n",
    "y=8\n",
    "x>y"
   ]
  },
  {
   "cell_type": "code",
   "execution_count": null,
   "id": "b6a63ffb",
   "metadata": {},
   "outputs": [],
   "source": [
    "x=1\n",
    "y=8\n",
    "x<y"
   ]
  },
  {
   "cell_type": "markdown",
   "id": "400992c3",
   "metadata": {},
   "source": [
    "# Logical Operators"
   ]
  },
  {
   "cell_type": "code",
   "execution_count": null,
   "id": "46e8b0db",
   "metadata": {},
   "outputs": [],
   "source": [
    "x=False\n",
    "y=True\n",
    "z=True"
   ]
  },
  {
   "cell_type": "code",
   "execution_count": null,
   "id": "eae906f4",
   "metadata": {},
   "outputs": [],
   "source": [
    "x and y"
   ]
  },
  {
   "cell_type": "code",
   "execution_count": null,
   "id": "8b135996",
   "metadata": {},
   "outputs": [],
   "source": [
    "x or y"
   ]
  },
  {
   "cell_type": "code",
   "execution_count": 139,
   "id": "b231c216",
   "metadata": {},
   "outputs": [
    {
     "data": {
      "text/plain": [
       "True"
      ]
     },
     "execution_count": 139,
     "metadata": {},
     "output_type": "execute_result"
    }
   ],
   "source": [
    "x or z"
   ]
  },
  {
   "cell_type": "code",
   "execution_count": 143,
   "id": "c354a9ae",
   "metadata": {},
   "outputs": [
    {
     "data": {
      "text/plain": [
       "False"
      ]
     },
     "execution_count": 143,
     "metadata": {},
     "output_type": "execute_result"
    }
   ],
   "source": [
    "y and not z"
   ]
  },
  {
   "cell_type": "markdown",
   "id": "e18bf25f",
   "metadata": {},
   "source": [
    "# Membership Operators"
   ]
  },
  {
   "cell_type": "code",
   "execution_count": null,
   "id": "ca718d34",
   "metadata": {},
   "outputs": [],
   "source": []
  },
  {
   "cell_type": "code",
   "execution_count": null,
   "id": "0e4a015a",
   "metadata": {},
   "outputs": [],
   "source": []
  },
  {
   "cell_type": "code",
   "execution_count": null,
   "id": "0f6527eb",
   "metadata": {},
   "outputs": [],
   "source": [
    "## Runtime Variable assignment"
   ]
  },
  {
   "cell_type": "markdown",
   "id": "e3391a18",
   "metadata": {},
   "source": [
    "# Assignment Opertors"
   ]
  },
  {
   "cell_type": "code",
   "execution_count": 145,
   "id": "cf48fc93",
   "metadata": {},
   "outputs": [
    {
     "data": {
      "text/plain": [
       "10"
      ]
     },
     "execution_count": 145,
     "metadata": {},
     "output_type": "execute_result"
    }
   ],
   "source": [
    "a=8\n",
    "b=2\n",
    "a=a+b\n",
    "a"
   ]
  },
  {
   "cell_type": "code",
   "execution_count": 146,
   "id": "197d97a4",
   "metadata": {},
   "outputs": [
    {
     "data": {
      "text/plain": [
       "10"
      ]
     },
     "execution_count": 146,
     "metadata": {},
     "output_type": "execute_result"
    }
   ],
   "source": [
    "a=8\n",
    "b=2\n",
    "a+=b\n",
    "a"
   ]
  },
  {
   "cell_type": "code",
   "execution_count": 147,
   "id": "d14291d8",
   "metadata": {},
   "outputs": [
    {
     "data": {
      "text/plain": [
       "6"
      ]
     },
     "execution_count": 147,
     "metadata": {},
     "output_type": "execute_result"
    }
   ],
   "source": [
    "a=8\n",
    "b=2\n",
    "a-=b\n",
    "a"
   ]
  },
  {
   "cell_type": "code",
   "execution_count": 148,
   "id": "f6678467",
   "metadata": {},
   "outputs": [
    {
     "data": {
      "text/plain": [
       "16"
      ]
     },
     "execution_count": 148,
     "metadata": {},
     "output_type": "execute_result"
    }
   ],
   "source": [
    "a=8\n",
    "b=2\n",
    "a*=b\n",
    "a"
   ]
  },
  {
   "cell_type": "code",
   "execution_count": 149,
   "id": "566bd765",
   "metadata": {},
   "outputs": [
    {
     "data": {
      "text/plain": [
       "0"
      ]
     },
     "execution_count": 149,
     "metadata": {},
     "output_type": "execute_result"
    }
   ],
   "source": [
    "a=8\n",
    "b=2\n",
    "a%=b\n",
    "a"
   ]
  },
  {
   "cell_type": "code",
   "execution_count": 150,
   "id": "740cb81d",
   "metadata": {},
   "outputs": [
    {
     "data": {
      "text/plain": [
       "64"
      ]
     },
     "execution_count": 150,
     "metadata": {},
     "output_type": "execute_result"
    }
   ],
   "source": [
    "a=8\n",
    "b=2\n",
    "a**=b\n",
    "a"
   ]
  },
  {
   "cell_type": "code",
   "execution_count": 151,
   "id": "32a43da4",
   "metadata": {},
   "outputs": [
    {
     "data": {
      "text/plain": [
       "4"
      ]
     },
     "execution_count": 151,
     "metadata": {},
     "output_type": "execute_result"
    }
   ],
   "source": [
    "a=8\n",
    "b=2\n",
    "a//=b\n",
    "a"
   ]
  },
  {
   "cell_type": "markdown",
   "id": "93b6c6fc",
   "metadata": {},
   "source": [
    "### Conditional Statments"
   ]
  },
  {
   "cell_type": "code",
   "execution_count": 153,
   "id": "6ee79655",
   "metadata": {},
   "outputs": [
    {
     "name": "stdout",
     "output_type": "stream",
     "text": [
      "5 Is Greter Than Zero\n"
     ]
    }
   ],
   "source": [
    "num=5\n",
    "if num>0:\n",
    "    print(num,\"Is Greter Than Zero\")"
   ]
  },
  {
   "cell_type": "code",
   "execution_count": 154,
   "id": "570d809e",
   "metadata": {},
   "outputs": [],
   "source": [
    "num=5\n",
    "if num<0:\n",
    "    print(num,\"Is Greter Than Zero\")"
   ]
  },
  {
   "cell_type": "code",
   "execution_count": 157,
   "id": "4f3054e8",
   "metadata": {},
   "outputs": [
    {
     "name": "stdout",
     "output_type": "stream",
     "text": [
      "5 Is Greter Than Zero\n"
     ]
    }
   ],
   "source": [
    "num=5\n",
    "if num<0:\n",
    "    print(num,\"Is Greter less than Zero\")\n",
    "else:\n",
    "     print(num,\"Is Greter Than Zero\")"
   ]
  },
  {
   "cell_type": "code",
   "execution_count": 158,
   "id": "a484fc6c",
   "metadata": {},
   "outputs": [
    {
     "name": "stdout",
     "output_type": "stream",
     "text": [
      "-5 Is Greter less than Zero\n"
     ]
    }
   ],
   "source": [
    "num=-5\n",
    "if num<0:\n",
    "    print(num,\"Is Greter less than Zero\")\n",
    "else:\n",
    "     print(num,\"Is Greter Than Zero\")"
   ]
  },
  {
   "cell_type": "code",
   "execution_count": 159,
   "id": "cd843af7",
   "metadata": {},
   "outputs": [
    {
     "name": "stdout",
     "output_type": "stream",
     "text": [
      "-5 Is Greter less than Zero\n"
     ]
    }
   ],
   "source": [
    "num=-5\n",
    "if num<0:\n",
    "    print(num,\"Is Greter less than Zero\")\n",
    "else:\n",
    "     print(num,\"Is Greter Than Zero\")"
   ]
  },
  {
   "cell_type": "code",
   "execution_count": 164,
   "id": "e0bec73b",
   "metadata": {},
   "outputs": [
    {
     "name": "stdout",
     "output_type": "stream",
     "text": [
      "Enter Age25\n",
      "Bus Fare is 30\n"
     ]
    }
   ],
   "source": [
    "age=int(input(\"Enter Age\"))\n",
    "if(0<age<3):\n",
    "    print(\"No fares for Age group 0 - 3\")\n",
    "elif(3<age<10):\n",
    "    print(\"Bus Fare is 10\") \n",
    "elif(10<age<20):\n",
    "    print(\"Bus Fare is 20\")  \n",
    "else:\n",
    "    print(\"Bus Fare is 30\")"
   ]
  },
  {
   "cell_type": "markdown",
   "id": "d692f343",
   "metadata": {},
   "source": [
    "# \"eval\" takes integer or float"
   ]
  },
  {
   "cell_type": "code",
   "execution_count": 166,
   "id": "8d934148",
   "metadata": {},
   "outputs": [
    {
     "name": "stdout",
     "output_type": "stream",
     "text": [
      "Enter Age3.3\n",
      "Bus Fare is 10\n"
     ]
    }
   ],
   "source": [
    "age=eval(input(\"Enter Age\"))\n",
    "if(0<age<3):\n",
    "    print(\"No fares for Age group 0 - 3\")\n",
    "elif(3<age<10):\n",
    "    print(\"Bus Fare is 10\") \n",
    "elif(10<age<20):\n",
    "    print(\"Bus Fare is 20\")  \n",
    "else:\n",
    "    print(\"Bus Fare is 30\")"
   ]
  },
  {
   "cell_type": "markdown",
   "id": "2c66f41f",
   "metadata": {},
   "source": [
    "# 4th- June -2023 (Day-3)"
   ]
  },
  {
   "cell_type": "code",
   "execution_count": 168,
   "id": "a6a062b6",
   "metadata": {},
   "outputs": [
    {
     "name": "stdout",
     "output_type": "stream",
     "text": [
      "34 Is Greater\n"
     ]
    }
   ],
   "source": [
    "n1=10\n",
    "n2=34\n",
    "n3=5\n",
    "if (n1>n2):\n",
    "    print(n1,\"Is Greater\")\n",
    "else:\n",
    "    if (n3>n2):\n",
    "        print(n3,\"Is Greater\")\n",
    "    else:\n",
    "         print(n2,\"Is Greater\")"
   ]
  },
  {
   "cell_type": "code",
   "execution_count": 169,
   "id": "e7e4f336",
   "metadata": {},
   "outputs": [
    {
     "name": "stdout",
     "output_type": "stream",
     "text": [
      "34 Is Greater\n"
     ]
    }
   ],
   "source": [
    "n1=34\n",
    "n2=10\n",
    "n3=5\n",
    "if (n1>n2):\n",
    "    print(n1,\"Is Greater\")\n",
    "else:\n",
    "    if (n3>n2):\n",
    "        print(n3,\"Is Greater\")\n",
    "    else:\n",
    "         print(n2,\"Is Greater\")"
   ]
  },
  {
   "cell_type": "code",
   "execution_count": 177,
   "id": "3ab9f8f0",
   "metadata": {},
   "outputs": [
    {
     "name": "stdout",
     "output_type": "stream",
     "text": [
      "50 N1 Is Greater\n"
     ]
    }
   ],
   "source": [
    "n1=50\n",
    "n2=10\n",
    "n3=35\n",
    "if (n1>n2 and n1>n3):\n",
    "    print(n1,\"N1 Is Greater\")\n",
    "else:\n",
    "    if (n3>n2):\n",
    "        print(n3,\"N3 Is Greater\")\n",
    "    else:\n",
    "         print(n2,\"N2 Is Greater\")"
   ]
  },
  {
   "cell_type": "code",
   "execution_count": 178,
   "id": "5d5e5b89",
   "metadata": {},
   "outputs": [
    {
     "name": "stdout",
     "output_type": "stream",
     "text": [
      "Enter user id:Mukund\n",
      "Enter Password:Muk123\n",
      "Password Acceted, Logged in!!!!!\n"
     ]
    }
   ],
   "source": [
    "User_id=input(\"Enter user id:\")\n",
    "Password=input(\"Enter Password:\")\n",
    "if (User_id==\"Mukund\"):\n",
    "    if(Password==\"Muk123\"):\n",
    "        print(\"Password Acceted, Logged in!!!!!\")\n",
    "    else:\n",
    "        print(\"Wrond Password !!!!!\")"
   ]
  },
  {
   "cell_type": "code",
   "execution_count": 179,
   "id": "a17559ee",
   "metadata": {},
   "outputs": [
    {
     "name": "stdout",
     "output_type": "stream",
     "text": [
      "Enter user id:Mukund\n",
      "Enter Password:Mukund123\n",
      "Wrond Password !!!!!\n"
     ]
    }
   ],
   "source": [
    "User_id=input(\"Enter user id:\")\n",
    "Password=input(\"Enter Password:\")\n",
    "if (User_id==\"Mukund\"):\n",
    "    if(Password==\"Muk123\"):\n",
    "        print(\"Password Acceted, Logged in!!!!!\")\n",
    "    else:\n",
    "        print(\"Wrond Password !!!!!\")"
   ]
  },
  {
   "cell_type": "code",
   "execution_count": 181,
   "id": "8ecbe19c",
   "metadata": {},
   "outputs": [
    {
     "name": "stdout",
     "output_type": "stream",
     "text": [
      "Enter user id:Mukun\n",
      "Wrong User Id!!\n"
     ]
    }
   ],
   "source": [
    "User_id=input(\"Enter user id:\")\n",
    "\n",
    "if (User_id==\"Mukund\"):\n",
    "    print(\"Enter you Password!!\")\n",
    "    Password=input(\"Enter Password:\")\n",
    "    if(Password==\"Muk123\"):\n",
    "        print(\"Password Acceted, Logged in!!!!!\")\n",
    "    else:\n",
    "        print(\"Wrond Password !!!!!\")\n",
    "else:\n",
    "    print(\"Wrong User Id!!\")\n",
    "   "
   ]
  },
  {
   "cell_type": "markdown",
   "id": "ab2b6465",
   "metadata": {},
   "source": [
    "# String Handling"
   ]
  },
  {
   "cell_type": "code",
   "execution_count": 182,
   "id": "197ec3a3",
   "metadata": {},
   "outputs": [
    {
     "name": "stdout",
     "output_type": "stream",
     "text": [
      "Mukund\n"
     ]
    },
    {
     "data": {
      "text/plain": [
       "str"
      ]
     },
     "execution_count": 182,
     "metadata": {},
     "output_type": "execute_result"
    }
   ],
   "source": [
    "Name=\"Mukund\"\n",
    "print(Name)\n",
    "type(Name)"
   ]
  },
  {
   "cell_type": "code",
   "execution_count": 183,
   "id": "5fc454c9",
   "metadata": {},
   "outputs": [],
   "source": [
    "text=\"I Love Python\""
   ]
  },
  {
   "cell_type": "code",
   "execution_count": 184,
   "id": "d5f1d379",
   "metadata": {},
   "outputs": [
    {
     "data": {
      "text/plain": [
       "'I'"
      ]
     },
     "execution_count": 184,
     "metadata": {},
     "output_type": "execute_result"
    }
   ],
   "source": [
    "text[0]"
   ]
  },
  {
   "cell_type": "code",
   "execution_count": 185,
   "id": "5e2813f8",
   "metadata": {},
   "outputs": [
    {
     "data": {
      "text/plain": [
       "'n'"
      ]
     },
     "execution_count": 185,
     "metadata": {},
     "output_type": "execute_result"
    }
   ],
   "source": [
    "text[-1]"
   ]
  },
  {
   "cell_type": "code",
   "execution_count": 186,
   "id": "b32044d3",
   "metadata": {},
   "outputs": [
    {
     "data": {
      "text/plain": [
       "'v'"
      ]
     },
     "execution_count": 186,
     "metadata": {},
     "output_type": "execute_result"
    }
   ],
   "source": [
    "text[4]"
   ]
  },
  {
   "cell_type": "code",
   "execution_count": 187,
   "id": "aa657e63",
   "metadata": {},
   "outputs": [
    {
     "data": {
      "text/plain": [
       "'I Love Pytho'"
      ]
     },
     "execution_count": 187,
     "metadata": {},
     "output_type": "execute_result"
    }
   ],
   "source": [
    "text[:-1]"
   ]
  },
  {
   "cell_type": "code",
   "execution_count": 188,
   "id": "9c0cc274",
   "metadata": {},
   "outputs": [
    {
     "data": {
      "text/plain": [
       "'nohtyP evoL I'"
      ]
     },
     "execution_count": 188,
     "metadata": {},
     "output_type": "execute_result"
    }
   ],
   "source": [
    "text[::-1]"
   ]
  },
  {
   "cell_type": "code",
   "execution_count": 189,
   "id": "db03fe84",
   "metadata": {},
   "outputs": [
    {
     "data": {
      "text/plain": [
       "'Love Python'"
      ]
     },
     "execution_count": 189,
     "metadata": {},
     "output_type": "execute_result"
    }
   ],
   "source": [
    "text[2:]"
   ]
  },
  {
   "cell_type": "code",
   "execution_count": 190,
   "id": "08ee376d",
   "metadata": {},
   "outputs": [
    {
     "data": {
      "text/plain": [
       "'L'"
      ]
     },
     "execution_count": 190,
     "metadata": {},
     "output_type": "execute_result"
    }
   ],
   "source": [
    "text[2]"
   ]
  },
  {
   "cell_type": "code",
   "execution_count": 194,
   "id": "0cecfe96",
   "metadata": {},
   "outputs": [
    {
     "data": {
      "text/plain": [
       "'nohtyP'"
      ]
     },
     "execution_count": 194,
     "metadata": {},
     "output_type": "execute_result"
    }
   ],
   "source": [
    "text[:-7:-1]"
   ]
  },
  {
   "cell_type": "code",
   "execution_count": 195,
   "id": "a72e838b",
   "metadata": {},
   "outputs": [
    {
     "data": {
      "text/plain": [
       "' Love Pytho'"
      ]
     },
     "execution_count": 195,
     "metadata": {},
     "output_type": "execute_result"
    }
   ],
   "source": [
    "text[1:-1]"
   ]
  },
  {
   "cell_type": "code",
   "execution_count": 196,
   "id": "5ae36a24",
   "metadata": {},
   "outputs": [
    {
     "data": {
      "text/plain": [
       "'nohtyP evoL I'"
      ]
     },
     "execution_count": 196,
     "metadata": {},
     "output_type": "execute_result"
    }
   ],
   "source": [
    "RE=text[::-1]\n",
    "RE\n",
    "RE[-3]"
   ]
  },
  {
   "cell_type": "code",
   "execution_count": 197,
   "id": "0363bcc5",
   "metadata": {},
   "outputs": [
    {
     "data": {
      "text/plain": [
       "'L'"
      ]
     },
     "execution_count": 197,
     "metadata": {},
     "output_type": "execute_result"
    }
   ],
   "source": [
    "RE[-3]"
   ]
  },
  {
   "cell_type": "code",
   "execution_count": 199,
   "id": "591a73ff",
   "metadata": {},
   "outputs": [
    {
     "data": {
      "text/plain": [
       "'I Love Data Science'"
      ]
     },
     "execution_count": 199,
     "metadata": {},
     "output_type": "execute_result"
    }
   ],
   "source": [
    "text.replace(\"Python\",\"Data Science\")"
   ]
  },
  {
   "cell_type": "code",
   "execution_count": 200,
   "id": "dc5ae51f",
   "metadata": {},
   "outputs": [
    {
     "data": {
      "text/plain": [
       "'I LOVE PYTHON'"
      ]
     },
     "execution_count": 200,
     "metadata": {},
     "output_type": "execute_result"
    }
   ],
   "source": [
    "text.upper()"
   ]
  },
  {
   "cell_type": "code",
   "execution_count": 201,
   "id": "46a31de1",
   "metadata": {},
   "outputs": [
    {
     "data": {
      "text/plain": [
       "'i love python'"
      ]
     },
     "execution_count": 201,
     "metadata": {},
     "output_type": "execute_result"
    }
   ],
   "source": [
    "text.lower()"
   ]
  },
  {
   "cell_type": "code",
   "execution_count": 203,
   "id": "8e4d54b6",
   "metadata": {},
   "outputs": [
    {
     "data": {
      "text/plain": [
       "'I Love Python'"
      ]
     },
     "execution_count": 203,
     "metadata": {},
     "output_type": "execute_result"
    }
   ],
   "source": [
    "text.title()"
   ]
  },
  {
   "cell_type": "code",
   "execution_count": 204,
   "id": "55a49f5a",
   "metadata": {},
   "outputs": [
    {
     "data": {
      "text/plain": [
       "'04/06/2023'"
      ]
     },
     "execution_count": 204,
     "metadata": {},
     "output_type": "execute_result"
    }
   ],
   "source": [
    "date=\"04\",\"06\",\"2023\"\n",
    "sep=\"/\"\n",
    "sep.join(date)"
   ]
  },
  {
   "cell_type": "code",
   "execution_count": 206,
   "id": "e0156050",
   "metadata": {},
   "outputs": [
    {
     "data": {
      "text/plain": [
       "'Python*for*Data*Science'"
      ]
     },
     "execution_count": 206,
     "metadata": {},
     "output_type": "execute_result"
    }
   ],
   "source": [
    "text=\"*****Python*for*Data*Science********\"\n",
    "text.strip(\"*\")"
   ]
  },
  {
   "cell_type": "code",
   "execution_count": 208,
   "id": "c0ddc290",
   "metadata": {},
   "outputs": [
    {
     "data": {
      "text/plain": [
       "'Python*for*Data*Science'"
      ]
     },
     "execution_count": 208,
     "metadata": {},
     "output_type": "execute_result"
    }
   ],
   "source": [
    "text=\"*****Python*for*Data*Science\"\n",
    "text.strip(\"*\")"
   ]
  },
  {
   "cell_type": "code",
   "execution_count": 209,
   "id": "a21b739a",
   "metadata": {},
   "outputs": [
    {
     "data": {
      "text/plain": [
       "'Python*for*Data*Science'"
      ]
     },
     "execution_count": 209,
     "metadata": {},
     "output_type": "execute_result"
    }
   ],
   "source": [
    "text=\"Python*for*Data*Science\"\n",
    "text.strip(\"*\")"
   ]
  },
  {
   "cell_type": "markdown",
   "id": "d6793fac",
   "metadata": {},
   "source": [
    "## Concept of List"
   ]
  },
  {
   "cell_type": "code",
   "execution_count": 211,
   "id": "48199e38",
   "metadata": {},
   "outputs": [
    {
     "data": {
      "text/plain": [
       "[1, 2, 3, 'Hello']"
      ]
     },
     "execution_count": 211,
     "metadata": {},
     "output_type": "execute_result"
    }
   ],
   "source": [
    "Sample_list=[1,2,3,\"Hello\"]\n",
    "Sample_list"
   ]
  },
  {
   "cell_type": "code",
   "execution_count": 212,
   "id": "944f79ad",
   "metadata": {},
   "outputs": [
    {
     "data": {
      "text/plain": [
       "list"
      ]
     },
     "execution_count": 212,
     "metadata": {},
     "output_type": "execute_result"
    }
   ],
   "source": [
    "type(Sample_list)"
   ]
  },
  {
   "cell_type": "markdown",
   "id": "f548a9f8",
   "metadata": {},
   "source": [
    "### Elements in a list are seperated by comma and enclosed in squire brackets"
   ]
  },
  {
   "cell_type": "markdown",
   "id": "d0ee7b5c",
   "metadata": {},
   "source": [
    "### Hetrogenous->Multiple Data Types"
   ]
  },
  {
   "cell_type": "markdown",
   "id": "4f5fe9cc",
   "metadata": {},
   "source": [
    "### Have Duplicates "
   ]
  },
  {
   "cell_type": "code",
   "execution_count": 216,
   "id": "158c1c6e",
   "metadata": {},
   "outputs": [
    {
     "name": "stdout",
     "output_type": "stream",
     "text": [
      "['Python', 'R', 'DS']\n"
     ]
    },
    {
     "data": {
      "text/plain": [
       "list"
      ]
     },
     "execution_count": 216,
     "metadata": {},
     "output_type": "execute_result"
    }
   ],
   "source": [
    "Book_lst=[\"Python\",\"R\",\"DS\"]\n",
    "print(Book_lst)\n",
    "type(Book_lst)"
   ]
  },
  {
   "cell_type": "code",
   "execution_count": 219,
   "id": "067fb4d9",
   "metadata": {},
   "outputs": [
    {
     "data": {
      "text/plain": [
       "['Python', 'R', 'DS', 'Lord of the ringd', 'Herry Potter']"
      ]
     },
     "execution_count": 219,
     "metadata": {},
     "output_type": "execute_result"
    }
   ],
   "source": [
    "Book_lst=[\"Python\",\"R\",\"DS\"]\n",
    "novels=[\"Lord of the ringd\",\"Herry Potter\"]\n",
    "library=Book_lst+novels\n",
    "library"
   ]
  },
  {
   "cell_type": "code",
   "execution_count": 221,
   "id": "2421185f",
   "metadata": {},
   "outputs": [
    {
     "data": {
      "text/plain": [
       "['Lord of the ringd', 'Herry Potter', 'Jumanji', 'Jumanji']"
      ]
     },
     "execution_count": 221,
     "metadata": {},
     "output_type": "execute_result"
    }
   ],
   "source": [
    "novels.append(\"Jumanji\")\n",
    "novels"
   ]
  },
  {
   "cell_type": "code",
   "execution_count": 222,
   "id": "4805c8bb",
   "metadata": {},
   "outputs": [
    {
     "data": {
      "text/plain": [
       "['Lord of the ringd', 'Herry Potter', 'Jumanji', 'Leader', 'Jumanji']"
      ]
     },
     "execution_count": 222,
     "metadata": {},
     "output_type": "execute_result"
    }
   ],
   "source": [
    "novels.insert(3,\"Leader\")\n",
    "novels"
   ]
  },
  {
   "cell_type": "code",
   "execution_count": 225,
   "id": "33a3ae39",
   "metadata": {},
   "outputs": [],
   "source": [
    "Avg_Prices=[23,2,3,4,5,6,12,]\n",
    "Avg_Prices.sort()"
   ]
  },
  {
   "cell_type": "code",
   "execution_count": 226,
   "id": "19347fb3",
   "metadata": {},
   "outputs": [
    {
     "data": {
      "text/plain": [
       "[2, 3, 4, 5, 6, 12, 23]"
      ]
     },
     "execution_count": 226,
     "metadata": {},
     "output_type": "execute_result"
    }
   ],
   "source": [
    "Avg_Prices"
   ]
  },
  {
   "cell_type": "code",
   "execution_count": 229,
   "id": "b9060cbd",
   "metadata": {},
   "outputs": [
    {
     "data": {
      "text/plain": [
       "['Mango', 'Banana', 'Apple']"
      ]
     },
     "execution_count": 229,
     "metadata": {},
     "output_type": "execute_result"
    }
   ],
   "source": [
    "prod=[\"Mango\",\"Apple\",\"Banana\"]\n",
    "prod.sort(reverse=True)\n",
    "prod"
   ]
  },
  {
   "cell_type": "code",
   "execution_count": 230,
   "id": "1c9e5e3c",
   "metadata": {},
   "outputs": [
    {
     "data": {
      "text/plain": [
       "[2, 3, 4, 5, 6, 12, 12.5, 13, 23]"
      ]
     },
     "execution_count": 230,
     "metadata": {},
     "output_type": "execute_result"
    }
   ],
   "source": [
    "Avg_Prices=[23,2,3,4,5,6,12,12.5,13]\n",
    "Avg_Prices.sort()\n",
    "Avg_Prices"
   ]
  },
  {
   "cell_type": "code",
   "execution_count": 233,
   "id": "f0905d5d",
   "metadata": {},
   "outputs": [
    {
     "ename": "TypeError",
     "evalue": "'<' not supported between instances of 'str' and 'int'",
     "output_type": "error",
     "traceback": [
      "\u001b[1;31m---------------------------------------------------------------------------\u001b[0m",
      "\u001b[1;31mTypeError\u001b[0m                                 Traceback (most recent call last)",
      "Input \u001b[1;32mIn [233]\u001b[0m, in \u001b[0;36m<cell line: 2>\u001b[1;34m()\u001b[0m\n\u001b[0;32m      1\u001b[0m Avg_Prices\u001b[38;5;241m=\u001b[39m[\u001b[38;5;241m23\u001b[39m,\u001b[38;5;241m2\u001b[39m,\u001b[38;5;241m3\u001b[39m,\u001b[38;5;241m4\u001b[39m,\u001b[38;5;241m5\u001b[39m,\u001b[38;5;241m6\u001b[39m,\u001b[38;5;241m12\u001b[39m,\u001b[38;5;241m12.5\u001b[39m,\u001b[38;5;241m13\u001b[39m,\u001b[38;5;124m\"\u001b[39m\u001b[38;5;124mHi\u001b[39m\u001b[38;5;124m\"\u001b[39m]\n\u001b[1;32m----> 2\u001b[0m \u001b[43mAvg_Prices\u001b[49m\u001b[38;5;241;43m.\u001b[39;49m\u001b[43msort\u001b[49m\u001b[43m(\u001b[49m\u001b[43m)\u001b[49m\n\u001b[0;32m      3\u001b[0m Avg_Prices\n",
      "\u001b[1;31mTypeError\u001b[0m: '<' not supported between instances of 'str' and 'int'"
     ]
    }
   ],
   "source": [
    "Avg_Prices=[23,2,3,4,5,6,12,12.5,13,\"Hi\"]\n",
    "Avg_Prices.sort()\n",
    "Avg_Prices"
   ]
  },
  {
   "cell_type": "code",
   "execution_count": 238,
   "id": "391d7224",
   "metadata": {},
   "outputs": [
    {
     "data": {
      "text/plain": [
       "[23, 13, 12.5, 12, 6, 5, 4, 3, 2]"
      ]
     },
     "execution_count": 238,
     "metadata": {},
     "output_type": "execute_result"
    }
   ],
   "source": [
    "Avg_Prices=[23,2,3,4,5,6,12,12.5,13]\n",
    "sorted(Avg_Prices,reverse=True)\n"
   ]
  },
  {
   "cell_type": "code",
   "execution_count": 240,
   "id": "d10901da",
   "metadata": {},
   "outputs": [
    {
     "data": {
      "text/plain": [
       "6"
      ]
     },
     "execution_count": 240,
     "metadata": {},
     "output_type": "execute_result"
    }
   ],
   "source": [
    "prices=[1,2,3,4,5,-1,6]\n",
    "max(prices)"
   ]
  },
  {
   "cell_type": "code",
   "execution_count": 241,
   "id": "33a1b2b4",
   "metadata": {},
   "outputs": [
    {
     "data": {
      "text/plain": [
       "-1"
      ]
     },
     "execution_count": 241,
     "metadata": {},
     "output_type": "execute_result"
    }
   ],
   "source": [
    "min(prices)"
   ]
  },
  {
   "cell_type": "code",
   "execution_count": 242,
   "id": "e95e217a",
   "metadata": {},
   "outputs": [
    {
     "data": {
      "text/plain": [
       "7"
      ]
     },
     "execution_count": 242,
     "metadata": {},
     "output_type": "execute_result"
    }
   ],
   "source": [
    "len(prices)"
   ]
  },
  {
   "cell_type": "code",
   "execution_count": 243,
   "id": "f7c32d3b",
   "metadata": {},
   "outputs": [],
   "source": [
    "prices.clear()"
   ]
  },
  {
   "cell_type": "code",
   "execution_count": 245,
   "id": "330c17be",
   "metadata": {},
   "outputs": [
    {
     "data": {
      "text/plain": [
       "8"
      ]
     },
     "execution_count": 245,
     "metadata": {},
     "output_type": "execute_result"
    }
   ],
   "source": [
    "prices=[2,2,2,3,4,5,6,2,2,2,2,2]\n",
    "prices.count(2)"
   ]
  },
  {
   "cell_type": "code",
   "execution_count": 247,
   "id": "c32dc45b",
   "metadata": {},
   "outputs": [],
   "source": [
    "items=[\"Apple\",\"Banana\"]\n",
    "prices.extend(items)"
   ]
  },
  {
   "cell_type": "code",
   "execution_count": 248,
   "id": "42e06d95",
   "metadata": {},
   "outputs": [
    {
     "data": {
      "text/plain": [
       "[2, 2, 2, 3, 4, 5, 6, 2, 2, 2, 2, 2, 'Apple', 'Banana']"
      ]
     },
     "execution_count": 248,
     "metadata": {},
     "output_type": "execute_result"
    }
   ],
   "source": [
    "prices"
   ]
  },
  {
   "cell_type": "code",
   "execution_count": 249,
   "id": "63f22a24",
   "metadata": {},
   "outputs": [
    {
     "data": {
      "text/plain": [
       "4"
      ]
     },
     "execution_count": 249,
     "metadata": {},
     "output_type": "execute_result"
    }
   ],
   "source": [
    "prices.index(4)"
   ]
  },
  {
   "cell_type": "code",
   "execution_count": 250,
   "id": "cecd614a",
   "metadata": {},
   "outputs": [
    {
     "data": {
      "text/plain": [
       "12"
      ]
     },
     "execution_count": 250,
     "metadata": {},
     "output_type": "execute_result"
    }
   ],
   "source": [
    "prices.index(\"Apple\")"
   ]
  },
  {
   "cell_type": "code",
   "execution_count": 252,
   "id": "f154381c",
   "metadata": {},
   "outputs": [],
   "source": [
    "prices.insert(3,\"Mukund\")"
   ]
  },
  {
   "cell_type": "code",
   "execution_count": 1,
   "id": "cb1c960e",
   "metadata": {},
   "outputs": [
    {
     "ename": "NameError",
     "evalue": "name 'prices' is not defined",
     "output_type": "error",
     "traceback": [
      "\u001b[1;31m---------------------------------------------------------------------------\u001b[0m",
      "\u001b[1;31mNameError\u001b[0m                                 Traceback (most recent call last)",
      "Input \u001b[1;32mIn [1]\u001b[0m, in \u001b[0;36m<cell line: 1>\u001b[1;34m()\u001b[0m\n\u001b[1;32m----> 1\u001b[0m \u001b[43mprices\u001b[49m\u001b[38;5;241m.\u001b[39mpop()\n",
      "\u001b[1;31mNameError\u001b[0m: name 'prices' is not defined"
     ]
    }
   ],
   "source": [
    "prices.pop()"
   ]
  },
  {
   "cell_type": "code",
   "execution_count": 254,
   "id": "83b07e6a",
   "metadata": {},
   "outputs": [
    {
     "data": {
      "text/plain": [
       "[2, 2, 2, 'Mukund', 3, 4, 5, 6, 2, 2, 2, 2, 2, 'Apple']"
      ]
     },
     "execution_count": 254,
     "metadata": {},
     "output_type": "execute_result"
    }
   ],
   "source": [
    "prices"
   ]
  },
  {
   "cell_type": "code",
   "execution_count": 255,
   "id": "2842336a",
   "metadata": {},
   "outputs": [],
   "source": [
    "prices.remove(\"Apple\")"
   ]
  },
  {
   "cell_type": "code",
   "execution_count": 256,
   "id": "f67b2ea2",
   "metadata": {},
   "outputs": [
    {
     "data": {
      "text/plain": [
       "[2, 2, 2, 'Mukund', 3, 4, 5, 6, 2, 2, 2, 2, 2]"
      ]
     },
     "execution_count": 256,
     "metadata": {},
     "output_type": "execute_result"
    }
   ],
   "source": [
    "prices"
   ]
  },
  {
   "cell_type": "code",
   "execution_count": 257,
   "id": "015b32f4",
   "metadata": {},
   "outputs": [],
   "source": [
    "prices.reverse()"
   ]
  },
  {
   "cell_type": "code",
   "execution_count": 258,
   "id": "ad66b9a0",
   "metadata": {},
   "outputs": [
    {
     "data": {
      "text/plain": [
       "[2, 2, 2, 2, 2, 6, 5, 4, 3, 'Mukund', 2, 2, 2]"
      ]
     },
     "execution_count": 258,
     "metadata": {},
     "output_type": "execute_result"
    }
   ],
   "source": [
    "prices"
   ]
  },
  {
   "cell_type": "code",
   "execution_count": 263,
   "id": "3e86441e",
   "metadata": {},
   "outputs": [
    {
     "name": "stdout",
     "output_type": "stream",
     "text": [
      "Apple\n",
      "BAL\n",
      "CAR\n",
      "DOG\n"
     ]
    }
   ],
   "source": [
    "products=[\"Apple\",\"BAL\",\"CAR\",\"DOG\"]\n",
    "for H in products:\n",
    "    print(H)\n"
   ]
  },
  {
   "cell_type": "code",
   "execution_count": 264,
   "id": "fa12b7cd",
   "metadata": {},
   "outputs": [
    {
     "data": {
      "text/plain": [
       "[2, 2, 2]"
      ]
     },
     "execution_count": 264,
     "metadata": {},
     "output_type": "execute_result"
    }
   ],
   "source": [
    "prices[0:3]"
   ]
  },
  {
   "cell_type": "code",
   "execution_count": 265,
   "id": "e9f22642",
   "metadata": {},
   "outputs": [
    {
     "data": {
      "text/plain": [
       "[2, 2, 6, 5]"
      ]
     },
     "execution_count": 265,
     "metadata": {},
     "output_type": "execute_result"
    }
   ],
   "source": [
    "prices[3:7]"
   ]
  },
  {
   "cell_type": "markdown",
   "id": "4a82bb4e",
   "metadata": {},
   "source": [
    "### List is mutable -> changeable after creating"
   ]
  },
  {
   "cell_type": "markdown",
   "id": "e942d193",
   "metadata": {},
   "source": [
    "# 10th May 2023 (Day 4)"
   ]
  },
  {
   "cell_type": "markdown",
   "id": "124d2a8f",
   "metadata": {},
   "source": [
    "# 2. Tuple\n",
    "### 1. Container Object\n",
    "### 2. Heterogenous->Multiple Data\n",
    "### 3. Can have duplicates\n",
    "### 4. Immutable\n",
    "### 5.Element are seperated by comma, enclosed in paranthesis or without any brackets"
   ]
  },
  {
   "cell_type": "code",
   "execution_count": 4,
   "id": "a78d4aea",
   "metadata": {},
   "outputs": [
    {
     "data": {
      "text/plain": [
       "(1, 2, 3, 4, 'hi')"
      ]
     },
     "execution_count": 4,
     "metadata": {},
     "output_type": "execute_result"
    }
   ],
   "source": [
    "sample_tuple=(1,2,3,4,\"hi\")\n",
    "sample_tuple"
   ]
  },
  {
   "cell_type": "code",
   "execution_count": 3,
   "id": "bae3ac1e",
   "metadata": {},
   "outputs": [
    {
     "data": {
      "text/plain": [
       "(1, 2, 3, 4, 'hi')"
      ]
     },
     "execution_count": 3,
     "metadata": {},
     "output_type": "execute_result"
    }
   ],
   "source": [
    "sample_tuple2=1,2,3,4,\"hi\"\n",
    "sample_tuple2"
   ]
  },
  {
   "cell_type": "code",
   "execution_count": 5,
   "id": "dd863d74",
   "metadata": {},
   "outputs": [
    {
     "data": {
      "text/plain": [
       "tuple"
      ]
     },
     "execution_count": 5,
     "metadata": {},
     "output_type": "execute_result"
    }
   ],
   "source": [
    "type(sample_tuple2)"
   ]
  },
  {
   "cell_type": "code",
   "execution_count": 11,
   "id": "fde74ceb",
   "metadata": {},
   "outputs": [],
   "source": [
    "sample_tuple3=1,2,3,4\n"
   ]
  },
  {
   "cell_type": "code",
   "execution_count": 12,
   "id": "ebe1aedd",
   "metadata": {},
   "outputs": [
    {
     "data": {
      "text/plain": [
       "2"
      ]
     },
     "execution_count": 12,
     "metadata": {},
     "output_type": "execute_result"
    }
   ],
   "source": [
    "sample_tuple3[1]"
   ]
  },
  {
   "cell_type": "code",
   "execution_count": 13,
   "id": "a197d6ad",
   "metadata": {},
   "outputs": [
    {
     "ename": "IndexError",
     "evalue": "tuple index out of range",
     "output_type": "error",
     "traceback": [
      "\u001b[1;31m---------------------------------------------------------------------------\u001b[0m",
      "\u001b[1;31mIndexError\u001b[0m                                Traceback (most recent call last)",
      "Input \u001b[1;32mIn [13]\u001b[0m, in \u001b[0;36m<cell line: 1>\u001b[1;34m()\u001b[0m\n\u001b[1;32m----> 1\u001b[0m \u001b[43msample_tuple3\u001b[49m\u001b[43m[\u001b[49m\u001b[38;5;241;43m10\u001b[39;49m\u001b[43m]\u001b[49m\n",
      "\u001b[1;31mIndexError\u001b[0m: tuple index out of range"
     ]
    }
   ],
   "source": [
    "sample_tuple3[10]"
   ]
  },
  {
   "cell_type": "code",
   "execution_count": 14,
   "id": "c58b058c",
   "metadata": {},
   "outputs": [
    {
     "ename": "AttributeError",
     "evalue": "'tuple' object has no attribute 'sort'",
     "output_type": "error",
     "traceback": [
      "\u001b[1;31m---------------------------------------------------------------------------\u001b[0m",
      "\u001b[1;31mAttributeError\u001b[0m                            Traceback (most recent call last)",
      "Input \u001b[1;32mIn [14]\u001b[0m, in \u001b[0;36m<cell line: 1>\u001b[1;34m()\u001b[0m\n\u001b[1;32m----> 1\u001b[0m \u001b[43msample_tuple3\u001b[49m\u001b[38;5;241;43m.\u001b[39;49m\u001b[43msort\u001b[49m()\n",
      "\u001b[1;31mAttributeError\u001b[0m: 'tuple' object has no attribute 'sort'"
     ]
    }
   ],
   "source": [
    "sample_tuple3.sort()"
   ]
  },
  {
   "cell_type": "code",
   "execution_count": 15,
   "id": "8f961922",
   "metadata": {},
   "outputs": [
    {
     "data": {
      "text/plain": [
       "[1, 2, 3, 4]"
      ]
     },
     "execution_count": 15,
     "metadata": {},
     "output_type": "execute_result"
    }
   ],
   "source": [
    "sorted(sample_tuple3)"
   ]
  },
  {
   "cell_type": "code",
   "execution_count": 16,
   "id": "0c57cd4a",
   "metadata": {},
   "outputs": [
    {
     "data": {
      "text/plain": [
       "(4, 3, 2, 1)"
      ]
     },
     "execution_count": 16,
     "metadata": {},
     "output_type": "execute_result"
    }
   ],
   "source": [
    "sample_tuple3[::-1]"
   ]
  },
  {
   "cell_type": "code",
   "execution_count": 19,
   "id": "668c29f8",
   "metadata": {},
   "outputs": [
    {
     "data": {
      "text/plain": [
       "[4, 3, 2, 1]"
      ]
     },
     "execution_count": 19,
     "metadata": {},
     "output_type": "execute_result"
    }
   ],
   "source": [
    "sorted(sample_tuple3,reverse=True)"
   ]
  },
  {
   "cell_type": "code",
   "execution_count": 21,
   "id": "7b8187c4",
   "metadata": {},
   "outputs": [
    {
     "data": {
      "text/plain": [
       "(1, 2, 3, 4, 1, 2, 3, 4)"
      ]
     },
     "execution_count": 21,
     "metadata": {},
     "output_type": "execute_result"
    }
   ],
   "source": [
    "n=2\n",
    "tuple3=1,2,3,4\n",
    "rep_tup=tuple3*n\n",
    "rep_tup"
   ]
  },
  {
   "cell_type": "code",
   "execution_count": 22,
   "id": "78a105be",
   "metadata": {},
   "outputs": [
    {
     "data": {
      "text/plain": [
       "(1, 2, 3, 4, 3, 5, 6, '18')"
      ]
     },
     "execution_count": 22,
     "metadata": {},
     "output_type": "execute_result"
    }
   ],
   "source": [
    "sample_tupl=(1,2,3,4)\n",
    "sample_tupl2=(3,5,6,\"18\")\n",
    "sample_tupl3=sample_tupl+sample_tupl2\n",
    "sample_tupl3"
   ]
  },
  {
   "cell_type": "code",
   "execution_count": 23,
   "id": "dd3bc1e8",
   "metadata": {},
   "outputs": [
    {
     "name": "stdout",
     "output_type": "stream",
     "text": [
      "True\n"
     ]
    }
   ],
   "source": [
    "print(2 in sample_tupl3)"
   ]
  },
  {
   "cell_type": "code",
   "execution_count": 24,
   "id": "361da33b",
   "metadata": {},
   "outputs": [
    {
     "name": "stdout",
     "output_type": "stream",
     "text": [
      "False\n"
     ]
    }
   ],
   "source": [
    "print(10 in sample_tupl3)"
   ]
  },
  {
   "cell_type": "code",
   "execution_count": 25,
   "id": "4db515c8",
   "metadata": {},
   "outputs": [
    {
     "name": "stdout",
     "output_type": "stream",
     "text": [
      "True\n"
     ]
    }
   ],
   "source": [
    "print(10 not in sample_tupl3)"
   ]
  },
  {
   "cell_type": "code",
   "execution_count": 40,
   "id": "d2adc4c3",
   "metadata": {},
   "outputs": [
    {
     "name": "stdout",
     "output_type": "stream",
     "text": [
      "Python\n",
      "R\n",
      "Excel\n"
     ]
    }
   ],
   "source": [
    "books=(\"Python\",\"R\",\"Excel\")\n",
    "for evry_tool in books:\n",
    "    len(evry_tool)\n",
    "    print(evry_tool)\n",
    "   "
   ]
  },
  {
   "cell_type": "code",
   "execution_count": 30,
   "id": "05b68683",
   "metadata": {},
   "outputs": [
    {
     "data": {
      "text/plain": [
       "5"
      ]
     },
     "execution_count": 30,
     "metadata": {},
     "output_type": "execute_result"
    }
   ],
   "source": [
    "len(evry_tool)"
   ]
  },
  {
   "cell_type": "code",
   "execution_count": 37,
   "id": "60ac395f",
   "metadata": {},
   "outputs": [
    {
     "data": {
      "text/plain": [
       "400"
      ]
     },
     "execution_count": 37,
     "metadata": {},
     "output_type": "execute_result"
    }
   ],
   "source": [
    "prices=(100,200,300,400)\n",
    "max(prices)"
   ]
  },
  {
   "cell_type": "code",
   "execution_count": 39,
   "id": "f1a44286",
   "metadata": {},
   "outputs": [
    {
     "ename": "AttributeError",
     "evalue": "'tuple' object has no attribute 'append'",
     "output_type": "error",
     "traceback": [
      "\u001b[1;31m---------------------------------------------------------------------------\u001b[0m",
      "\u001b[1;31mAttributeError\u001b[0m                            Traceback (most recent call last)",
      "Input \u001b[1;32mIn [39]\u001b[0m, in \u001b[0;36m<cell line: 1>\u001b[1;34m()\u001b[0m\n\u001b[1;32m----> 1\u001b[0m \u001b[43mprices\u001b[49m\u001b[38;5;241;43m.\u001b[39;49m\u001b[43mappend\u001b[49m(\u001b[38;5;241m10\u001b[39m)\n",
      "\u001b[1;31mAttributeError\u001b[0m: 'tuple' object has no attribute 'append'"
     ]
    }
   ],
   "source": [
    "prices.append(10)"
   ]
  },
  {
   "cell_type": "code",
   "execution_count": 41,
   "id": "0df7707b",
   "metadata": {},
   "outputs": [
    {
     "data": {
      "text/plain": [
       "(100, 200, 300, 400)"
      ]
     },
     "execution_count": 41,
     "metadata": {},
     "output_type": "execute_result"
    }
   ],
   "source": [
    "prices"
   ]
  },
  {
   "cell_type": "code",
   "execution_count": 43,
   "id": "1c62fac3",
   "metadata": {},
   "outputs": [
    {
     "ename": "AttributeError",
     "evalue": "'int' object has no attribute 'append'",
     "output_type": "error",
     "traceback": [
      "\u001b[1;31m---------------------------------------------------------------------------\u001b[0m",
      "\u001b[1;31mAttributeError\u001b[0m                            Traceback (most recent call last)",
      "Input \u001b[1;32mIn [43]\u001b[0m, in \u001b[0;36m<cell line: 1>\u001b[1;34m()\u001b[0m\n\u001b[1;32m----> 1\u001b[0m \u001b[43mprices\u001b[49m\u001b[43m[\u001b[49m\u001b[38;5;241;43m2\u001b[39;49m\u001b[43m]\u001b[49m\u001b[38;5;241;43m.\u001b[39;49m\u001b[43mappend\u001b[49m(\u001b[38;5;241m10\u001b[39m)\n",
      "\u001b[1;31mAttributeError\u001b[0m: 'int' object has no attribute 'append'"
     ]
    }
   ],
   "source": [
    "prices[2].append(10)"
   ]
  },
  {
   "cell_type": "code",
   "execution_count": 45,
   "id": "587da53a",
   "metadata": {},
   "outputs": [],
   "source": [
    "price=([1,3,4],3,45)\n",
    "price[0].append(100)"
   ]
  },
  {
   "cell_type": "code",
   "execution_count": 46,
   "id": "534daaa6",
   "metadata": {},
   "outputs": [
    {
     "data": {
      "text/plain": [
       "([1, 3, 4, 100], 3, 45)"
      ]
     },
     "execution_count": 46,
     "metadata": {},
     "output_type": "execute_result"
    }
   ],
   "source": [
    "price"
   ]
  },
  {
   "cell_type": "code",
   "execution_count": 49,
   "id": "10cb8e47",
   "metadata": {},
   "outputs": [
    {
     "name": "stdout",
     "output_type": "stream",
     "text": [
      "<class 'tuple'>\n"
     ]
    }
   ],
   "source": [
    "tuple1 = ('apple', )\n",
    "print (type(tuple1))"
   ]
  },
  {
   "cell_type": "markdown",
   "id": "90c7ae6d",
   "metadata": {},
   "source": [
    "# Dictionary"
   ]
  },
  {
   "cell_type": "markdown",
   "id": "bf954835",
   "metadata": {},
   "source": [
    "### 1. Key value pair\n",
    "### 2. {}\n",
    "### 3. Indexing -[]\n",
    "### 4. Mutable- Changable\n",
    "### 5. No Duplicats"
   ]
  },
  {
   "cell_type": "code",
   "execution_count": 52,
   "id": "7f58733d",
   "metadata": {},
   "outputs": [],
   "source": [
    "dict={'name':\"Mukund\",'hobbies':[\"Coding\",\"Cooking\",\"Reading\"],1:23}"
   ]
  },
  {
   "cell_type": "code",
   "execution_count": 53,
   "id": "66cdfa85",
   "metadata": {},
   "outputs": [
    {
     "data": {
      "text/plain": [
       "{'name': 'Mukund', 'hobbies': ['Coding', 'Cooking', 'Reading'], 1: 23}"
      ]
     },
     "execution_count": 53,
     "metadata": {},
     "output_type": "execute_result"
    }
   ],
   "source": [
    "dict"
   ]
  },
  {
   "cell_type": "code",
   "execution_count": 54,
   "id": "1dd77467",
   "metadata": {},
   "outputs": [
    {
     "data": {
      "text/plain": [
       "dict_keys(['name', 'hobbies', 1])"
      ]
     },
     "execution_count": 54,
     "metadata": {},
     "output_type": "execute_result"
    }
   ],
   "source": [
    "dict.keys()"
   ]
  },
  {
   "cell_type": "code",
   "execution_count": 55,
   "id": "a6a2a1a5",
   "metadata": {},
   "outputs": [
    {
     "data": {
      "text/plain": [
       "'Mukund'"
      ]
     },
     "execution_count": 55,
     "metadata": {},
     "output_type": "execute_result"
    }
   ],
   "source": [
    "dict['name']"
   ]
  },
  {
   "cell_type": "code",
   "execution_count": 57,
   "id": "7763e58e",
   "metadata": {},
   "outputs": [
    {
     "data": {
      "text/plain": [
       "dict_values(['Mukund', ['Coding', 'Cooking', 'Reading'], 23])"
      ]
     },
     "execution_count": 57,
     "metadata": {},
     "output_type": "execute_result"
    }
   ],
   "source": [
    "dict.values()"
   ]
  },
  {
   "cell_type": "code",
   "execution_count": 58,
   "id": "112a9f63",
   "metadata": {},
   "outputs": [],
   "source": [
    "dict['name']=\"Arunam\""
   ]
  },
  {
   "cell_type": "code",
   "execution_count": 60,
   "id": "7faf8de6",
   "metadata": {},
   "outputs": [
    {
     "data": {
      "text/plain": [
       "'Arunam'"
      ]
     },
     "execution_count": 60,
     "metadata": {},
     "output_type": "execute_result"
    }
   ],
   "source": [
    "dict['name']"
   ]
  },
  {
   "cell_type": "code",
   "execution_count": 61,
   "id": "2beca9b1",
   "metadata": {},
   "outputs": [],
   "source": [
    "del dict[\"name\"]"
   ]
  },
  {
   "cell_type": "code",
   "execution_count": 62,
   "id": "9ca7a11c",
   "metadata": {},
   "outputs": [
    {
     "ename": "KeyError",
     "evalue": "'name'",
     "output_type": "error",
     "traceback": [
      "\u001b[1;31m---------------------------------------------------------------------------\u001b[0m",
      "\u001b[1;31mKeyError\u001b[0m                                  Traceback (most recent call last)",
      "Input \u001b[1;32mIn [62]\u001b[0m, in \u001b[0;36m<cell line: 1>\u001b[1;34m()\u001b[0m\n\u001b[1;32m----> 1\u001b[0m \u001b[38;5;28;43mdict\u001b[39;49m\u001b[43m[\u001b[49m\u001b[38;5;124;43m\"\u001b[39;49m\u001b[38;5;124;43mname\u001b[39;49m\u001b[38;5;124;43m\"\u001b[39;49m\u001b[43m]\u001b[49m\n",
      "\u001b[1;31mKeyError\u001b[0m: 'name'"
     ]
    }
   ],
   "source": [
    "dict[\"name\"]"
   ]
  },
  {
   "cell_type": "code",
   "execution_count": 64,
   "id": "0915dabf",
   "metadata": {},
   "outputs": [
    {
     "ename": "SyntaxError",
     "evalue": "invalid syntax (4179713720.py, line 1)",
     "output_type": "error",
     "traceback": [
      "\u001b[1;36m  Input \u001b[1;32mIn [64]\u001b[1;36m\u001b[0m\n\u001b[1;33m    dict.insert('H':\"Height\")\u001b[0m\n\u001b[1;37m                   ^\u001b[0m\n\u001b[1;31mSyntaxError\u001b[0m\u001b[1;31m:\u001b[0m invalid syntax\n"
     ]
    }
   ],
   "source": [
    "dict.insert('H':\"Height\")"
   ]
  },
  {
   "cell_type": "code",
   "execution_count": 66,
   "id": "643a70c9",
   "metadata": {},
   "outputs": [],
   "source": [
    "dict.update({'H':\"Height\"})"
   ]
  },
  {
   "cell_type": "code",
   "execution_count": 67,
   "id": "c4f359c9",
   "metadata": {},
   "outputs": [
    {
     "data": {
      "text/plain": [
       "{'hobbies': ['Coding', 'Cooking', 'Reading'], 1: 23, 'H': 'Height'}"
      ]
     },
     "execution_count": 67,
     "metadata": {},
     "output_type": "execute_result"
    }
   ],
   "source": [
    "dict"
   ]
  },
  {
   "cell_type": "code",
   "execution_count": 70,
   "id": "bb63784e",
   "metadata": {},
   "outputs": [
    {
     "ename": "SyntaxError",
     "evalue": "invalid syntax (1160905863.py, line 1)",
     "output_type": "error",
     "traceback": [
      "\u001b[1;36m  Input \u001b[1;32mIn [70]\u001b[1;36m\u001b[0m\n\u001b[1;33m    dict_items('hobbies': ['Coding', 'Cooking', 'Reading'], 1: 23, (1,23), ('class','ds'))\u001b[0m\n\u001b[1;37m                        ^\u001b[0m\n\u001b[1;31mSyntaxError\u001b[0m\u001b[1;31m:\u001b[0m invalid syntax\n"
     ]
    }
   ],
   "source": [
    "dict_items('hobbies': ['Coding', 'Cooking', 'Reading'], 1: 23, (1,23), ('class','ds'))"
   ]
  },
  {
   "cell_type": "markdown",
   "id": "c91440cd",
   "metadata": {},
   "source": [
    "### 1. No Duplicate\n",
    "### 2. Not retiev the set\n",
    "### 3. Set is mutable\n",
    "### 4. Set has{}\n",
    "### 5. Ordered-first place"
   ]
  },
  {
   "cell_type": "markdown",
   "id": "366f74f2",
   "metadata": {},
   "source": [
    "# Loops"
   ]
  },
  {
   "cell_type": "code",
   "execution_count": 74,
   "id": "783c9d6d",
   "metadata": {},
   "outputs": [
    {
     "name": "stdout",
     "output_type": "stream",
     "text": [
      "Addition is 55\n"
     ]
    }
   ],
   "source": [
    "num=10\n",
    "addition=0\n",
    "i=1\n",
    "while(i<=num):\n",
    "    addition = addition+i\n",
    "    i=i+1\n",
    "\n",
    "print(\"Addition is\", addition)"
   ]
  },
  {
   "cell_type": "code",
   "execution_count": 76,
   "id": "b32c89c5",
   "metadata": {},
   "outputs": [
    {
     "name": "stdout",
     "output_type": "stream",
     "text": [
      "Addition is -55\n"
     ]
    }
   ],
   "source": [
    "num=10\n",
    "addition=0\n",
    "i=1\n",
    "while(i<=num):\n",
    "    addition = addition-i\n",
    "    i=i+1\n",
    "\n",
    "print(\"Addition is\", addition)"
   ]
  },
  {
   "cell_type": "code",
   "execution_count": 86,
   "id": "95c916cc",
   "metadata": {},
   "outputs": [
    {
     "name": "stdout",
     "output_type": "stream",
     "text": [
      "Addition is 55\n"
     ]
    }
   ],
   "source": [
    "num=11\n",
    "addition=0\n",
    "\n",
    "for i in range(1,num):\n",
    "    addition = addition+i\n",
    "\n",
    "    \n",
    "print(\"Addition is\", addition)"
   ]
  },
  {
   "cell_type": "code",
   "execution_count": 91,
   "id": "1d79fda3",
   "metadata": {},
   "outputs": [
    {
     "name": "stdout",
     "output_type": "stream",
     "text": [
      "M\n",
      "u\n",
      "Loop Stopped\n"
     ]
    }
   ],
   "source": [
    "Name=\"Mukund\"\n",
    "\n",
    "for i in Name:\n",
    "    if(i=='k'):\n",
    "        break\n",
    "    print(i)\n",
    "print(\"Loop Stopped\")\n"
   ]
  },
  {
   "cell_type": "code",
   "execution_count": 93,
   "id": "40f04f4e",
   "metadata": {},
   "outputs": [
    {
     "name": "stdout",
     "output_type": "stream",
     "text": [
      "M\n",
      "u\n",
      "k\n",
      "u\n",
      "n\n",
      "d\n",
      "T\n",
      "h\n",
      "a\n",
      "k\n",
      "u\n",
      "r\n",
      "Loop Stopped\n"
     ]
    }
   ],
   "source": [
    "Name=\"Mukund Thakur\"\n",
    "\n",
    "for i in Name:\n",
    "    if(i==' '):\n",
    "        continue\n",
    "    print(i)\n",
    "print(\"Loop Stopped\")"
   ]
  },
  {
   "cell_type": "code",
   "execution_count": 111,
   "id": "708d3ee7",
   "metadata": {},
   "outputs": [
    {
     "name": "stdout",
     "output_type": "stream",
     "text": [
      "1 \n",
      "\n",
      "2 2 \n",
      "\n",
      "3 3 3 \n",
      "\n",
      "4 4 4 4 \n",
      "\n"
     ]
    }
   ],
   "source": [
    "for i in range(1,5):\n",
    "    for j in range(i):\n",
    "            print(i, end=\" \")\n",
    "            \n",
    "    print(\"\\n\")"
   ]
  },
  {
   "cell_type": "code",
   "execution_count": null,
   "id": "317737c0",
   "metadata": {},
   "outputs": [],
   "source": []
  }
 ],
 "metadata": {
  "kernelspec": {
   "display_name": "Python 3 (ipykernel)",
   "language": "python",
   "name": "python3"
  },
  "language_info": {
   "codemirror_mode": {
    "name": "ipython",
    "version": 3
   },
   "file_extension": ".py",
   "mimetype": "text/x-python",
   "name": "python",
   "nbconvert_exporter": "python",
   "pygments_lexer": "ipython3",
   "version": "3.9.12"
  }
 },
 "nbformat": 4,
 "nbformat_minor": 5
}
