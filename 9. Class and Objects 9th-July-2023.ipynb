{
 "cells": [
  {
   "cell_type": "code",
   "execution_count": 4,
   "id": "62d12871",
   "metadata": {},
   "outputs": [
    {
     "name": "stdout",
     "output_type": "stream",
     "text": [
      "Class Created!!\n"
     ]
    }
   ],
   "source": [
    "class ClassName:\n",
    "    def printfunction(self):\n",
    "        print(\"Class Created!!\")\n",
    "\n",
    "obj=ClassName()\n",
    "obj.printfunction()\n"
   ]
  },
  {
   "cell_type": "code",
   "execution_count": 14,
   "id": "ce0fa630",
   "metadata": {},
   "outputs": [],
   "source": [
    "import matplotlib.pyplot as plt\n",
    "%matplotlib inline"
   ]
  },
  {
   "cell_type": "code",
   "execution_count": 25,
   "id": "5455fd1e",
   "metadata": {},
   "outputs": [
    {
     "data": {
      "image/png": "[encoded data removed]",
      "text/plain": [
       "<Figure size 432x288 with 1 Axes>"
      ]
     },
     "metadata": {
      "needs_background": "light"
     },
     "output_type": "display_data"
    }
   ],
   "source": [
    "class RCircle:\n",
    "    def __init__(self,radius=3,color='blue'):\n",
    "        self.radius=radius;\n",
    "        self.color=color;\n",
    "        \n",
    "    def add_radius(self,r):\n",
    "       self.radius=self.radius+r\n",
    "       return (self.radius)\n",
    "    def drawCircle(self):\n",
    "        plt.gca().add_patch(plt.Circle((0,0),radius=self.radius,fc=self.color))\n",
    "        plt.axis('Scaled')\n",
    "        plt.show()\n",
    "RedCircle=Circle()\n",
    "RedCircle.add_radius(10)\n",
    "RedCircle.drawCircle()\n"
   ]
  },
  {
   "cell_type": "code",
   "execution_count": 26,
   "id": "d0c53f95",
   "metadata": {},
   "outputs": [
    {
     "data": {
      "text/plain": [
       "13"
      ]
     },
     "execution_count": 26,
     "metadata": {},
     "output_type": "execute_result"
    }
   ],
   "source": [
    "RedCircle.radius"
   ]
  },
  {
   "cell_type": "code",
   "execution_count": 27,
   "id": "ed9112ad",
   "metadata": {},
   "outputs": [
    {
     "data": {
      "text/plain": [
       "'blue'"
      ]
     },
     "execution_count": 27,
     "metadata": {},
     "output_type": "execute_result"
    }
   ],
   "source": [
    "RedCircle.color"
   ]
  },
  {
   "cell_type": "code",
   "execution_count": 28,
   "id": "b8acd478",
   "metadata": {},
   "outputs": [
    {
     "data": {
      "text/plain": [
       "12"
      ]
     },
     "execution_count": 28,
     "metadata": {},
     "output_type": "execute_result"
    }
   ],
   "source": [
    "RedCircle.radius=12\n",
    "RedCircle.radius"
   ]
  },
  {
   "cell_type": "code",
   "execution_count": 41,
   "id": "423bc7a5",
   "metadata": {},
   "outputs": [
    {
     "data": {
      "image/png": "[encoded data removed]",
      "text/plain": [
       "<Figure size 432x288 with 1 Axes>"
      ]
     },
     "metadata": {
      "needs_background": "light"
     },
     "output_type": "display_data"
    }
   ],
   "source": [
    "class Rectangle:\n",
    "    def __init__(self,width=3,height=4,color='blue'):\n",
    "        self.width=width;\n",
    "        self.height=height;\n",
    "        self.color=color;\n",
    "   \n",
    "    def drawRectangle(self):\n",
    "        plt.gca().add_patch(plt.Rectangle((0, 0),self.width,self.height,fc=self.color))\n",
    "        plt.axis('Scaled')\n",
    "        plt.show()\n",
    "drawRgle=Rectangle(3,4,'blue')\n",
    "drawRgle.drawRectangle()"
   ]
  },
  {
   "cell_type": "code",
   "execution_count": 86,
   "id": "786e843b",
   "metadata": {},
   "outputs": [],
   "source": [
    "import re"
   ]
  },
  {
   "cell_type": "markdown",
   "id": "aca5442c",
   "metadata": {},
   "source": [
    "# Finall() function"
   ]
  },
  {
   "cell_type": "code",
   "execution_count": 46,
   "id": "f147ef28",
   "metadata": {},
   "outputs": [
    {
     "data": {
      "text/plain": [
       "['in', 'in', 'in']"
      ]
     },
     "execution_count": 46,
     "metadata": {},
     "output_type": "execute_result"
    }
   ],
   "source": [
    "txt=\"The rain in india\"\n",
    "x=re.findall(\"in\",txt)\n",
    "x"
   ]
  },
  {
   "cell_type": "code",
   "execution_count": 49,
   "id": "6ad480df",
   "metadata": {},
   "outputs": [
    {
     "data": {
      "text/plain": [
       "['India']"
      ]
     },
     "execution_count": 49,
     "metadata": {},
     "output_type": "execute_result"
    }
   ],
   "source": [
    "txt=\"The rain in India\"\n",
    "x=re.findall(\"India\",txt)\n",
    "x"
   ]
  },
  {
   "cell_type": "code",
   "execution_count": null,
   "id": "7275ec03",
   "metadata": {},
   "outputs": [],
   "source": []
  },
  {
   "cell_type": "code",
   "execution_count": 68,
   "id": "941b24b7",
   "metadata": {},
   "outputs": [
    {
     "data": {
      "text/plain": [
       "[]"
      ]
     },
     "execution_count": 68,
     "metadata": {},
     "output_type": "execute_result"
    }
   ],
   "source": [
    "txt=\"The rain in india\"\n",
    "x=re.findall(\"Portugal\",txt)\n",
    "x"
   ]
  },
  {
   "cell_type": "markdown",
   "id": "2af0ce60",
   "metadata": {},
   "source": [
    "# Search() function"
   ]
  },
  {
   "cell_type": "code",
   "execution_count": 78,
   "id": "d6e0ac64",
   "metadata": {
    "scrolled": true
   },
   "outputs": [
    {
     "name": "stdout",
     "output_type": "stream",
     "text": [
      "<re.Match object; span=(7, 8), match=' '>\n"
     ]
    }
   ],
   "source": [
    "txt=\"Therain in Spain\"\n",
    "ax=re.search(\"\\s\",txt)\n",
    "print(ax)"
   ]
  },
  {
   "cell_type": "code",
   "execution_count": 75,
   "id": "698495d3",
   "metadata": {},
   "outputs": [
    {
     "name": "stdout",
     "output_type": "stream",
     "text": [
      "The first white-space character is located in position: <re.Match object; span=(3, 4), match=' '>\n"
     ]
    }
   ],
   "source": [
    "#Search for the first white-space character in the string:\n",
    "txt1 = \"The rain in Spain\"\n",
    "x = re.search(\"\\s\", txt1)\n",
    "\n",
    "print(\"The first white-space character is located in position:\", x)"
   ]
  },
  {
   "cell_type": "markdown",
   "id": "875274ba",
   "metadata": {},
   "source": [
    "# Split() function"
   ]
  },
  {
   "cell_type": "code",
   "execution_count": 88,
   "id": "8adbefec",
   "metadata": {},
   "outputs": [
    {
     "data": {
      "text/plain": [
       "['The', 'rain', 'in', 'Spain']"
      ]
     },
     "execution_count": 88,
     "metadata": {},
     "output_type": "execute_result"
    }
   ],
   "source": [
    "txt1 = \"The rain in Spain\"\n",
    "x = re.split(\"\\s\", txt1,3)\n",
    "x\n"
   ]
  },
  {
   "cell_type": "code",
   "execution_count": 89,
   "id": "b18666aa",
   "metadata": {},
   "outputs": [
    {
     "data": {
      "text/plain": [
       "['Pro-Khalistani',\n",
       " 'groups',\n",
       " 'have',\n",
       " 'demonstrated outside Indian High Commissions in Canada, Australia, the United States, and the UK, protesting recent events and demanding an independent Sikh state.']"
      ]
     },
     "execution_count": 89,
     "metadata": {},
     "output_type": "execute_result"
    }
   ],
   "source": [
    "txt1 = \"Pro-Khalistani groups have demonstrated outside Indian High Commissions in Canada, Australia, the United States, and the UK, protesting recent events and demanding an independent Sikh state.\"\n",
    "x = re.split(\"\\s\", txt1,3)\n",
    "x"
   ]
  },
  {
   "cell_type": "markdown",
   "id": "b3e115a5",
   "metadata": {},
   "source": [
    "# sub() function"
   ]
  },
  {
   "cell_type": "code",
   "execution_count": 90,
   "id": "c89a8e95",
   "metadata": {
    "scrolled": true
   },
   "outputs": [
    {
     "data": {
      "text/plain": [
       "\"It's raining in India!!\""
      ]
     },
     "execution_count": 90,
     "metadata": {},
     "output_type": "execute_result"
    }
   ],
   "source": [
    "txt1 = \"It's raining in Mumbai!!\"\n",
    "x = re.sub(\"Mumbai\",'India', txt1)\n",
    "x"
   ]
  },
  {
   "cell_type": "code",
   "execution_count": 93,
   "id": "759d7957",
   "metadata": {},
   "outputs": [
    {
     "data": {
      "text/plain": [
       "\"It's Great raining Great in Great Mumbai!!\""
      ]
     },
     "execution_count": 93,
     "metadata": {},
     "output_type": "execute_result"
    }
   ],
   "source": [
    "txt1 = \"It's raining in Mumbai!!\"\n",
    "x = re.sub(\"\\s\",' Great ', txt1)\n",
    "x"
   ]
  },
  {
   "cell_type": "code",
   "execution_count": 94,
   "id": "ecbadb25",
   "metadata": {},
   "outputs": [
    {
     "data": {
      "text/plain": [
       "\"It's Great raining Great in Mumbai!!\""
      ]
     },
     "execution_count": 94,
     "metadata": {},
     "output_type": "execute_result"
    }
   ],
   "source": [
    "txt1 = \"It's raining in Mumbai!!\"\n",
    "x = re.sub(\"\\s\",' Great ', txt1,2)\n",
    "x"
   ]
  },
  {
   "cell_type": "markdown",
   "id": "e4ea7337",
   "metadata": {},
   "source": [
    "# match() function"
   ]
  },
  {
   "cell_type": "code",
   "execution_count": 95,
   "id": "12ee6f79",
   "metadata": {},
   "outputs": [
    {
     "name": "stdout",
     "output_type": "stream",
     "text": [
      "<re.Match object; span=(0, 3), match='ani'>\n"
     ]
    }
   ],
   "source": [
    "print(re.match('ani','animale'))"
   ]
  },
  {
   "cell_type": "code",
   "execution_count": 97,
   "id": "b311e34e",
   "metadata": {},
   "outputs": [
    {
     "name": "stdout",
     "output_type": "stream",
     "text": [
      "('Dani',)\n",
      "('DJ',)\n",
      "('Daniel',)\n"
     ]
    }
   ],
   "source": [
    "list=['Dani','DJ Daniel Jadi','Daniel Don','ai','art']\n",
    "for i in list:\n",
    "    z=re.match(\"(D\\w+)\",i)\n",
    "    if z:\n",
    "        print(z.groups())"
   ]
  },
  {
   "cell_type": "code",
   "execution_count": 98,
   "id": "fa5dfda8",
   "metadata": {},
   "outputs": [],
   "source": [
    "list=['Dani','DJ Daniel Jadi','Daniel Don','ai','art']\n",
    "for i in list:\n",
    "    z=re.match(\"(A\\w+)\",i)\n",
    "    if z:\n",
    "        print(z.groups())"
   ]
  },
  {
   "cell_type": "code",
   "execution_count": 100,
   "id": "ab2067f1",
   "metadata": {},
   "outputs": [
    {
     "name": "stdout",
     "output_type": "stream",
     "text": [
      "('Tuesday',)\n"
     ]
    }
   ],
   "source": [
    "list=[\"sunday\",\"monday\",\"Tuesday\",\"wednesday\",\"thursday\",\"friday\",\"saturday\"]\n",
    "for i in list:\n",
    "    z=re.match(\"(T\\w+)\",i)\n",
    "    if z: \n",
    "        print((z.groups)(()))"
   ]
  },
  {
   "cell_type": "code",
   "execution_count": null,
   "id": "85ac4942",
   "metadata": {},
   "outputs": [],
   "source": []
  }
 ],
 "metadata": {
  "kernelspec": {
   "display_name": "Python 3 (ipykernel)",
   "language": "python",
   "name": "python3"
  },
  "language_info": {
   "codemirror_mode": {
    "name": "ipython",
    "version": 3
   },
   "file_extension": ".py",
   "mimetype": "text/x-python",
   "name": "python",
   "nbconvert_exporter": "python",
   "pygments_lexer": "ipython3",
   "version": "3.9.12"
  }
 },
 "nbformat": 4,
 "nbformat_minor": 5
}
