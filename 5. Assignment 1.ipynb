{
 "cells": [
  {
   "cell_type": "markdown",
   "id": "9ee5a286",
   "metadata": {},
   "source": [
    "# Assignment 1"
   ]
  },
  {
   "cell_type": "markdown",
   "id": "bc129d02",
   "metadata": {},
   "source": [
    "### 1). Create a tuple called data with two values, (1, 2) and (3, 4)"
   ]
  },
  {
   "cell_type": "code",
   "execution_count": 4,
   "id": "c463fbff",
   "metadata": {},
   "outputs": [],
   "source": [
    "data=((1,2),(3,4))"
   ]
  },
  {
   "cell_type": "code",
   "execution_count": 5,
   "id": "03c73510",
   "metadata": {},
   "outputs": [
    {
     "data": {
      "text/plain": [
       "((1, 2), (3, 4))"
      ]
     },
     "execution_count": 5,
     "metadata": {},
     "output_type": "execute_result"
    }
   ],
   "source": [
    "data"
   ]
  },
  {
   "cell_type": "code",
   "execution_count": 6,
   "id": "086998ca",
   "metadata": {},
   "outputs": [
    {
     "data": {
      "text/plain": [
       "tuple"
      ]
     },
     "execution_count": 6,
     "metadata": {},
     "output_type": "execute_result"
    }
   ],
   "source": [
    "type(data)"
   ]
  },
  {
   "cell_type": "markdown",
   "id": "7b1b74bf",
   "metadata": {},
   "source": [
    "### 2). Create the list [4, 3, 2, 1] and assign it to variable numbers"
   ]
  },
  {
   "cell_type": "code",
   "execution_count": 7,
   "id": "93df7909",
   "metadata": {},
   "outputs": [
    {
     "data": {
      "text/plain": [
       "[4, 3, 2, 1]"
      ]
     },
     "execution_count": 7,
     "metadata": {},
     "output_type": "execute_result"
    }
   ],
   "source": [
    "numbers=[4, 3, 2, 1] \n",
    "numbers"
   ]
  },
  {
   "cell_type": "code",
   "execution_count": 8,
   "id": "8888382b",
   "metadata": {},
   "outputs": [
    {
     "data": {
      "text/plain": [
       "list"
      ]
     },
     "execution_count": 8,
     "metadata": {},
     "output_type": "execute_result"
    }
   ],
   "source": [
    "type(numbers)"
   ]
  },
  {
   "cell_type": "markdown",
   "id": "801071d4",
   "metadata": {},
   "source": [
    "### 3). Create a copy of the number list using [:]"
   ]
  },
  {
   "cell_type": "code",
   "execution_count": 10,
   "id": "c26df572",
   "metadata": {},
   "outputs": [],
   "source": [
    "number=numbers[0:4]"
   ]
  },
  {
   "cell_type": "code",
   "execution_count": 11,
   "id": "58c67438",
   "metadata": {},
   "outputs": [
    {
     "data": {
      "text/plain": [
       "[4, 3, 2, 1]"
      ]
     },
     "execution_count": 11,
     "metadata": {},
     "output_type": "execute_result"
    }
   ],
   "source": [
    "number"
   ]
  },
  {
   "cell_type": "code",
   "execution_count": 12,
   "id": "e164f74c",
   "metadata": {},
   "outputs": [],
   "source": [
    "number1=numbers.copy()"
   ]
  },
  {
   "cell_type": "code",
   "execution_count": 13,
   "id": "7eb17ac6",
   "metadata": {},
   "outputs": [
    {
     "data": {
      "text/plain": [
       "[4, 3, 2, 1]"
      ]
     },
     "execution_count": 13,
     "metadata": {},
     "output_type": "execute_result"
    }
   ],
   "source": [
    "number1"
   ]
  },
  {
   "cell_type": "code",
   "execution_count": 14,
   "id": "86967552",
   "metadata": {},
   "outputs": [],
   "source": [
    "number2=numbers"
   ]
  },
  {
   "cell_type": "code",
   "execution_count": 15,
   "id": "3169e62c",
   "metadata": {},
   "outputs": [
    {
     "data": {
      "text/plain": [
       "[4, 3, 2, 1]"
      ]
     },
     "execution_count": 15,
     "metadata": {},
     "output_type": "execute_result"
    }
   ],
   "source": [
    "number2"
   ]
  },
  {
   "cell_type": "markdown",
   "id": "f14a18d7",
   "metadata": {},
   "source": [
    "### 4). Sort the numbers list in numerical order"
   ]
  },
  {
   "cell_type": "code",
   "execution_count": 16,
   "id": "e20158ff",
   "metadata": {},
   "outputs": [],
   "source": [
    "numbers.sort(reverse=False)"
   ]
  },
  {
   "cell_type": "code",
   "execution_count": 17,
   "id": "ec319c8c",
   "metadata": {},
   "outputs": [
    {
     "data": {
      "text/plain": [
       "[1, 2, 3, 4]"
      ]
     },
     "execution_count": 17,
     "metadata": {},
     "output_type": "execute_result"
    }
   ],
   "source": [
    "numbers"
   ]
  },
  {
   "cell_type": "code",
   "execution_count": 19,
   "id": "5aee5e2d",
   "metadata": {},
   "outputs": [
    {
     "data": {
      "text/plain": [
       "[4, 3, 2, 1]"
      ]
     },
     "execution_count": 19,
     "metadata": {},
     "output_type": "execute_result"
    }
   ],
   "source": [
    "sorted(numbers,reverse=True)"
   ]
  },
  {
   "cell_type": "code",
   "execution_count": 20,
   "id": "565f19b9",
   "metadata": {},
   "outputs": [
    {
     "data": {
      "text/plain": [
       "[1, 2, 3, 4]"
      ]
     },
     "execution_count": 20,
     "metadata": {},
     "output_type": "execute_result"
    }
   ],
   "source": [
    "sorted(numbers,reverse=False)"
   ]
  },
  {
   "cell_type": "markdown",
   "id": "831882ef",
   "metadata": {},
   "source": [
    "### 5). Create a tuple \"cardinal_numbers\" with \"first\", \"second\" and \"third\""
   ]
  },
  {
   "cell_type": "code",
   "execution_count": 21,
   "id": "c3ea6c00",
   "metadata": {},
   "outputs": [],
   "source": [
    "cardinal_numbers=(\"first\", \"second\",\"third\")"
   ]
  },
  {
   "cell_type": "code",
   "execution_count": 22,
   "id": "cc785373",
   "metadata": {},
   "outputs": [
    {
     "data": {
      "text/plain": [
       "('first', 'second', 'third')"
      ]
     },
     "execution_count": 22,
     "metadata": {},
     "output_type": "execute_result"
    }
   ],
   "source": [
    "cardinal_numbers"
   ]
  },
  {
   "cell_type": "code",
   "execution_count": 25,
   "id": "3c605e9f",
   "metadata": {},
   "outputs": [
    {
     "data": {
      "text/plain": [
       "tuple"
      ]
     },
     "execution_count": 25,
     "metadata": {},
     "output_type": "execute_result"
    }
   ],
   "source": [
    "type(cardinal_numbers)"
   ]
  },
  {
   "cell_type": "markdown",
   "id": "2c906471",
   "metadata": {},
   "source": [
    "### 6). Display the second object in the tuple"
   ]
  },
  {
   "cell_type": "code",
   "execution_count": 26,
   "id": "08dfe568",
   "metadata": {},
   "outputs": [
    {
     "data": {
      "text/plain": [
       "'second'"
      ]
     },
     "execution_count": 26,
     "metadata": {},
     "output_type": "execute_result"
    }
   ],
   "source": [
    "cardinal_numbers[1]"
   ]
  },
  {
   "cell_type": "markdown",
   "id": "7ff7fc52",
   "metadata": {},
   "source": [
    "### 7). Unpack the tuple into three strings and display them"
   ]
  },
  {
   "cell_type": "code",
   "execution_count": 27,
   "id": "5884acad",
   "metadata": {},
   "outputs": [
    {
     "name": "stdout",
     "output_type": "stream",
     "text": [
      "first\n",
      "second\n",
      "third\n"
     ]
    }
   ],
   "source": [
    "for i in cardinal_numbers:\n",
    "    print(i)"
   ]
  },
  {
   "cell_type": "markdown",
   "id": "f0dd1961",
   "metadata": {},
   "source": [
    "### 8). Create a tuple containing the letters of your name from a string"
   ]
  },
  {
   "cell_type": "code",
   "execution_count": 31,
   "id": "581e1737",
   "metadata": {},
   "outputs": [],
   "source": [
    "my_name=[\"M\",\"U\",\"K\",\"U\",\"N\",\"D\"]"
   ]
  },
  {
   "cell_type": "code",
   "execution_count": 32,
   "id": "1280c69f",
   "metadata": {},
   "outputs": [
    {
     "data": {
      "text/plain": [
       "['M', 'U', 'K', 'U', 'N', 'D']"
      ]
     },
     "execution_count": 32,
     "metadata": {},
     "output_type": "execute_result"
    }
   ],
   "source": [
    "my_name"
   ]
  },
  {
   "cell_type": "markdown",
   "id": "a95abce4",
   "metadata": {},
   "source": [
    "### 9) Check whether or not x is in my_name"
   ]
  },
  {
   "cell_type": "code",
   "execution_count": 34,
   "id": "e5d5bebf",
   "metadata": {},
   "outputs": [
    {
     "name": "stdout",
     "output_type": "stream",
     "text": [
      "X Is Not Present!!\n"
     ]
    }
   ],
   "source": [
    "if \"x\" in my_name:\n",
    "    print(\"X Is Present!!\")\n",
    "else:\n",
    "    print(\"X Is Not Present!!\") "
   ]
  },
  {
   "cell_type": "markdown",
   "id": "b5187b07",
   "metadata": {},
   "source": [
    "### 10). Check whether or not s is in my_name"
   ]
  },
  {
   "cell_type": "code",
   "execution_count": 35,
   "id": "9923b1df",
   "metadata": {},
   "outputs": [
    {
     "name": "stdout",
     "output_type": "stream",
     "text": [
      "s Is Not Present!!\n"
     ]
    }
   ],
   "source": [
    "if \"s\" in my_name:\n",
    "    print(\"s Is Present!!\")\n",
    "else:\n",
    "    print(\"s Is Not Present!!\") "
   ]
  },
  {
   "cell_type": "markdown",
   "id": "db6f61a1",
   "metadata": {},
   "source": [
    "### 11). Check whether or not M is in my_name"
   ]
  },
  {
   "cell_type": "code",
   "execution_count": 36,
   "id": "feb4da3f",
   "metadata": {},
   "outputs": [
    {
     "name": "stdout",
     "output_type": "stream",
     "text": [
      "M Is Present!!\n"
     ]
    }
   ],
   "source": [
    "if \"M\" in my_name:\n",
    "    print(\"M Is Present!!\")\n",
    "else:\n",
    "    print(\"M Is Not Present!!\") "
   ]
  },
  {
   "cell_type": "markdown",
   "id": "b915c0a6",
   "metadata": {},
   "source": [
    "### 12). Check whether or not M is in my_name and Display the location"
   ]
  },
  {
   "cell_type": "code",
   "execution_count": 48,
   "id": "4a4ed10b",
   "metadata": {},
   "outputs": [
    {
     "name": "stdout",
     "output_type": "stream",
     "text": [
      "M Is Present!!\n",
      "M Is Present at 'my_name[0]' location\n"
     ]
    }
   ],
   "source": [
    "loc=0\n",
    "for i in my_name:\n",
    "    if \"M\" in i:\n",
    "        print(\"M Is Present!!\")\n",
    "        print(\"M Is Present at 'my_name[{}]' location\".format(loc) )\n",
    "    loc=loc+1"
   ]
  },
  {
   "cell_type": "code",
   "execution_count": null,
   "id": "f306c899",
   "metadata": {},
   "outputs": [],
   "source": []
  }
 ],
 "metadata": {
  "kernelspec": {
   "display_name": "Python 3 (ipykernel)",
   "language": "python",
   "name": "python3"
  },
  "language_info": {
   "codemirror_mode": {
    "name": "ipython",
    "version": 3
   },
   "file_extension": ".py",
   "mimetype": "text/x-python",
   "name": "python",
   "nbconvert_exporter": "python",
   "pygments_lexer": "ipython3",
   "version": "3.9.12"
  }
 },
 "nbformat": 4,
 "nbformat_minor": 5
}
