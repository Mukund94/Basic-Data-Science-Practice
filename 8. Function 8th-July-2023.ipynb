{
 "cells": [
  {
   "cell_type": "markdown",
   "id": "d0184667",
   "metadata": {},
   "source": [
    "## Function \n",
    "#### 1. Built-in Function\n",
    "#### 2. User Define Function\n",
    "#### 3. Anonymos funstion (With not Name)\n"
   ]
  },
  {
   "cell_type": "markdown",
   "id": "b2bf0205",
   "metadata": {},
   "source": [
    "## 1. Defined function with \"def\" keyword "
   ]
  },
  {
   "cell_type": "code",
   "execution_count": 1,
   "id": "4e5aa7ee",
   "metadata": {},
   "outputs": [
    {
     "name": "stdout",
     "output_type": "stream",
     "text": [
      "Hello\n"
     ]
    }
   ],
   "source": [
    "def FunctionaName(str):\n",
    "    print(str)\n",
    "    return;"
   ]
  },
  {
   "cell_type": "markdown",
   "id": "672bb6c9",
   "metadata": {},
   "source": [
    "## 2. Calling the function "
   ]
  },
  {
   "cell_type": "code",
   "execution_count": 2,
   "id": "9760f58b",
   "metadata": {},
   "outputs": [
    {
     "name": "stdout",
     "output_type": "stream",
     "text": [
      "Artificial Intelligence is the hottest job!!\n"
     ]
    }
   ],
   "source": [
    "def PrintOutString(str):\n",
    "    print(str)\n",
    "    return;\n",
    "\n",
    "PrintOutString(\"Artificial Intelligence is the hottest job!!\")"
   ]
  },
  {
   "cell_type": "markdown",
   "id": "12aac62b",
   "metadata": {},
   "source": [
    "# Types of Arguments "
   ]
  },
  {
   "cell_type": "markdown",
   "id": "07ab7833",
   "metadata": {},
   "source": [
    "# Required Arguments"
   ]
  },
  {
   "cell_type": "code",
   "execution_count": 4,
   "id": "a40c1f4f",
   "metadata": {},
   "outputs": [
    {
     "ename": "TypeError",
     "evalue": "PrintOutString() missing 1 required positional argument: 'str'",
     "output_type": "error",
     "traceback": [
      "\u001b[1;31m---------------------------------------------------------------------------\u001b[0m",
      "\u001b[1;31mTypeError\u001b[0m                                 Traceback (most recent call last)",
      "Input \u001b[1;32mIn [4]\u001b[0m, in \u001b[0;36m<cell line: 5>\u001b[1;34m()\u001b[0m\n\u001b[0;32m      2\u001b[0m     \u001b[38;5;28mprint\u001b[39m(\u001b[38;5;28mstr\u001b[39m)\n\u001b[0;32m      3\u001b[0m     \u001b[38;5;28;01mreturn\u001b[39;00m;\n\u001b[1;32m----> 5\u001b[0m \u001b[43mPrintOutString\u001b[49m\u001b[43m(\u001b[49m\u001b[43m)\u001b[49m\n",
      "\u001b[1;31mTypeError\u001b[0m: PrintOutString() missing 1 required positional argument: 'str'"
     ]
    }
   ],
   "source": [
    "def PrintOutString(str):\n",
    "    print(str)\n",
    "    return;\n",
    "\n",
    "PrintOutString()"
   ]
  },
  {
   "cell_type": "markdown",
   "id": "5244cab8",
   "metadata": {},
   "source": [
    "## Keyword Aurguments"
   ]
  },
  {
   "cell_type": "code",
   "execution_count": 8,
   "id": "6648e9bb",
   "metadata": {},
   "outputs": [
    {
     "name": "stdout",
     "output_type": "stream",
     "text": [
      "Name: Mukund\n",
      "Age: 100\n"
     ]
    }
   ],
   "source": [
    "def PrintInfo(Name,Age):\n",
    "    print(\"Name:\", Name)\n",
    "    print(\"Age:\", Age)\n",
    "    return;\n",
    "\n",
    "PrintInfo(Age=100,Name=\"Mukund\")"
   ]
  },
  {
   "cell_type": "markdown",
   "id": "5bcd267b",
   "metadata": {},
   "source": [
    "## Default Arguments"
   ]
  },
  {
   "cell_type": "code",
   "execution_count": 12,
   "id": "9f3fa5b8",
   "metadata": {},
   "outputs": [
    {
     "name": "stdout",
     "output_type": "stream",
     "text": [
      "Name: Mukund\n",
      "Age: 125\n"
     ]
    }
   ],
   "source": [
    "def PrintInfo(Name,Age=125):\n",
    "    print(\"Name:\", Name)\n",
    "    print(\"Age:\", Age)\n",
    "    return\n",
    "\n",
    "PrintInfo(Name=\"Mukund\")"
   ]
  },
  {
   "cell_type": "code",
   "execution_count": 11,
   "id": "3f732f0c",
   "metadata": {},
   "outputs": [
    {
     "name": "stdout",
     "output_type": "stream",
     "text": [
      "Name: Mukund\n",
      "Age: 100\n"
     ]
    }
   ],
   "source": [
    "def PrintInfo(Name,Age=125):\n",
    "    print(\"Name:\", Name)\n",
    "    print(\"Age:\", Age)\n",
    "    return\n",
    "\n",
    "PrintInfo(Age=100,Name=\"Mukund\")"
   ]
  },
  {
   "cell_type": "markdown",
   "id": "705bd4d3",
   "metadata": {},
   "source": [
    "# Variable-lenth Arguments"
   ]
  },
  {
   "cell_type": "code",
   "execution_count": 16,
   "id": "333e167e",
   "metadata": {},
   "outputs": [
    {
     "name": "stdout",
     "output_type": "stream",
     "text": [
      "19\n",
      "190\n"
     ]
    }
   ],
   "source": [
    "def sumnumber(*args):\n",
    "    result=0\n",
    "    for arg in args:\n",
    "        result=result+arg\n",
    "    return result\n",
    "\n",
    "print(sumnumber(1,3,4,5,6)) #19\n",
    "print(sumnumber(10,30,40,50,60)) #190\n"
   ]
  },
  {
   "cell_type": "code",
   "execution_count": 18,
   "id": "828a313a",
   "metadata": {},
   "outputs": [
    {
     "ename": "TypeError",
     "evalue": "StudInfo() got an unexpected keyword argument 'Name'",
     "output_type": "error",
     "traceback": [
      "\u001b[1;31m---------------------------------------------------------------------------\u001b[0m",
      "\u001b[1;31mTypeError\u001b[0m                                 Traceback (most recent call last)",
      "Input \u001b[1;32mIn [18]\u001b[0m, in \u001b[0;36m<cell line: 6>\u001b[1;34m()\u001b[0m\n\u001b[0;32m      4\u001b[0m     \u001b[38;5;28mprint\u001b[39m(\u001b[38;5;124m\"\u001b[39m\u001b[38;5;124mAge:\u001b[39m\u001b[38;5;124m\"\u001b[39m, Age)\n\u001b[0;32m      5\u001b[0m     \u001b[38;5;28;01mreturn\u001b[39;00m;\n\u001b[1;32m----> 6\u001b[0m \u001b[43mStudInfo\u001b[49m\u001b[43m(\u001b[49m\u001b[43mName\u001b[49m\u001b[38;5;241;43m=\u001b[39;49m\u001b[38;5;124;43m\"\u001b[39;49m\u001b[38;5;124;43mMukund\u001b[39;49m\u001b[38;5;124;43m\"\u001b[39;49m\u001b[43m,\u001b[49m\u001b[43mClass\u001b[49m\u001b[38;5;241;43m=\u001b[39;49m\u001b[38;5;124;43m\"\u001b[39;49m\u001b[38;5;124;43mDS\u001b[39;49m\u001b[38;5;124;43m\"\u001b[39;49m\u001b[43m,\u001b[49m\u001b[43mAge\u001b[49m\u001b[38;5;241;43m=\u001b[39;49m\u001b[38;5;124;43m\"\u001b[39;49m\u001b[38;5;124;43m26\u001b[39;49m\u001b[38;5;124;43m\"\u001b[39;49m\u001b[43m)\u001b[49m\n",
      "\u001b[1;31mTypeError\u001b[0m: StudInfo() got an unexpected keyword argument 'Name'"
     ]
    }
   ],
   "source": [
    "def StudInfo(*args):\n",
    "    print(\"Name:\", Name)\n",
    "    print(\"Class:\", Class)\n",
    "    print(\"Age:\", Age)\n",
    "    return;\n",
    "StudInfo(Name=\"Mukund\",Class=\"DS\",Age=\"26\")"
   ]
  },
  {
   "cell_type": "markdown",
   "id": "107352ef",
   "metadata": {},
   "source": [
    "# Scope of the variables\n",
    "### 1. Global Variables\n",
    "### 2. Local Variables"
   ]
  },
  {
   "cell_type": "code",
   "execution_count": 19,
   "id": "bb8d8c34",
   "metadata": {},
   "outputs": [
    {
     "name": "stdout",
     "output_type": "stream",
     "text": [
      "30\n",
      "0\n"
     ]
    }
   ],
   "source": [
    "total=0\n",
    "def Sum(arg1,arg2):\n",
    "    total=arg1+arg2\n",
    "    print(total)\n",
    "    return total;\n",
    "Sum(10,20)\n",
    "print(total)\n",
    "    "
   ]
  },
  {
   "cell_type": "code",
   "execution_count": 21,
   "id": "3cb5c423",
   "metadata": {},
   "outputs": [
    {
     "name": "stdout",
     "output_type": "stream",
     "text": [
      "inside 30\n",
      "outside 0\n"
     ]
    }
   ],
   "source": [
    "total=0;\n",
    "def sum(arg1,arg2):\n",
    "    total=arg1+arg2\n",
    "    print(\"inside\",total)\n",
    "    return total;\n",
    "sum(10,20);\n",
    "print(\"outside\",total);"
   ]
  },
  {
   "cell_type": "markdown",
   "id": "3e27f12c",
   "metadata": {},
   "source": [
    "## Built-in functions"
   ]
  },
  {
   "cell_type": "markdown",
   "id": "170b3cf7",
   "metadata": {},
   "source": [
    "### Sum\n",
    "### Mean\n",
    "### Mod\n",
    "### Count\n",
    "### Print etc..."
   ]
  },
  {
   "cell_type": "markdown",
   "id": "36a9ac0c",
   "metadata": {},
   "source": [
    "# Anonymous Function"
   ]
  },
  {
   "cell_type": "code",
   "execution_count": 27,
   "id": "60329490",
   "metadata": {},
   "outputs": [
    {
     "name": "stdout",
     "output_type": "stream",
     "text": [
      "Values of Total: 30\n",
      "Values of Total: 40\n"
     ]
    }
   ],
   "source": [
    "sum=lambda a,b:a+b\n",
    "print(\"Values of Total:\",sum(10,20))\n",
    "print(\"Values of Total:\",sum(20,20))"
   ]
  },
  {
   "cell_type": "code",
   "execution_count": 30,
   "id": "1e8bc477",
   "metadata": {},
   "outputs": [
    {
     "data": {
      "text/plain": [
       "3"
      ]
     },
     "execution_count": 30,
     "metadata": {},
     "output_type": "execute_result"
    }
   ],
   "source": [
    "greater=lambda a,b:a if a>b else b\n",
    "greater(2,3)"
   ]
  },
  {
   "cell_type": "code",
   "execution_count": 32,
   "id": "a651aedb",
   "metadata": {},
   "outputs": [
    {
     "ename": "SyntaxError",
     "evalue": "invalid syntax (3552369717.py, line 1)",
     "output_type": "error",
     "traceback": [
      "\u001b[1;36m  Input \u001b[1;32mIn [32]\u001b[1;36m\u001b[0m\n\u001b[1;33m    greater=lambda a,b,c:a if (a>c & a>b) b elif(b>c) else c\u001b[0m\n\u001b[1;37m                                          ^\u001b[0m\n\u001b[1;31mSyntaxError\u001b[0m\u001b[1;31m:\u001b[0m invalid syntax\n"
     ]
    }
   ],
   "source": [
    "greater=lambda a,b,c:a if (a>c & a>b) b elif(b>c) else c \n",
    "greater(2,3,4)"
   ]
  },
  {
   "cell_type": "code",
   "execution_count": 36,
   "id": "62bcb3ad",
   "metadata": {},
   "outputs": [
    {
     "data": {
      "text/plain": [
       "5"
      ]
     },
     "execution_count": 36,
     "metadata": {},
     "output_type": "execute_result"
    }
   ],
   "source": [
    "greater=lambda num1,num2,num3:num1 if num1>num2 and num2>num3 else num2 if num2>num3 else num3\n",
    "greater(7,2,5)"
   ]
  },
  {
   "cell_type": "markdown",
   "id": "6d9d5095",
   "metadata": {},
   "source": [
    "## Map function"
   ]
  },
  {
   "cell_type": "code",
   "execution_count": 37,
   "id": "933fbc85",
   "metadata": {},
   "outputs": [
    {
     "data": {
      "text/plain": [
       "[1, 4, 9, 16, 25, 36, 49, 64, 81, 100]"
      ]
     },
     "execution_count": 37,
     "metadata": {},
     "output_type": "execute_result"
    }
   ],
   "source": [
    "## Map function\n",
    "\n",
    "num1=list(range(1,11))\n",
    "sq_list=list(map(lambda x:x**2,num1))\n",
    "sq_list"
   ]
  },
  {
   "cell_type": "markdown",
   "id": "9c8c46d0",
   "metadata": {},
   "source": [
    "## Filter function"
   ]
  },
  {
   "cell_type": "code",
   "execution_count": 38,
   "id": "22ace6c6",
   "metadata": {},
   "outputs": [
    {
     "data": {
      "text/plain": [
       "[5, 10]"
      ]
     },
     "execution_count": 38,
     "metadata": {},
     "output_type": "execute_result"
    }
   ],
   "source": [
    "## Filter function\n",
    "\n",
    "num1=list(range(1,11))\n",
    "sq_list=list(filter(lambda x:x%5==0,num1))\n",
    "sq_list"
   ]
  },
  {
   "cell_type": "code",
   "execution_count": null,
   "id": "d6290928",
   "metadata": {},
   "outputs": [],
   "source": []
  }
 ],
 "metadata": {
  "kernelspec": {
   "display_name": "Python 3 (ipykernel)",
   "language": "python",
   "name": "python3"
  },
  "language_info": {
   "codemirror_mode": {
    "name": "ipython",
    "version": 3
   },
   "file_extension": ".py",
   "mimetype": "text/x-python",
   "name": "python",
   "nbconvert_exporter": "python",
   "pygments_lexer": "ipython3",
   "version": "3.9.12"
  }
 },
 "nbformat": 4,
 "nbformat_minor": 5
}
